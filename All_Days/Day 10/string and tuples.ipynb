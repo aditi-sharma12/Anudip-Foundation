{
 "cells": [
  {
   "cell_type": "code",
   "execution_count": 1,
   "metadata": {},
   "outputs": [
    {
     "data": {
      "text/plain": [
       "tuple"
      ]
     },
     "execution_count": 1,
     "metadata": {},
     "output_type": "execute_result"
    }
   ],
   "source": [
    "# a = tuple([1,2,3,4])\n",
    "a = 10, 20, 30, 40, 50 # tuple packing\n",
    "type(a)"
   ]
  },
  {
   "cell_type": "code",
   "execution_count": 2,
   "metadata": {},
   "outputs": [
    {
     "name": "stdout",
     "output_type": "stream",
     "text": [
      "True\n",
      "False\n",
      "ID of x :  2736228506944\n",
      "ID of y :  2736228505920\n",
      "ID of z :  2736228506944\n"
     ]
    }
   ],
   "source": [
    "# id is a pre defined function that is used to extract the address of a particular variable\n",
    "\n",
    "x = [\"apple\", \"banana\", \"cherry\"]\n",
    "y = ['apple', 'banana', \"cherry\"]\n",
    "z = x\n",
    "\n",
    "print(x is z)\n",
    "print(x is y)\n",
    "print(\"ID of x : \", id(x))\n",
    "print(\"ID of y : \", id(y))\n",
    "print(\"ID of z : \", id(z))\n"
   ]
  },
  {
   "cell_type": "code",
   "execution_count": 3,
   "metadata": {},
   "outputs": [
    {
     "name": "stdout",
     "output_type": "stream",
     "text": [
      "ID of a :  2736228523824\n",
      "ID of a :  2736228129408\n"
     ]
    }
   ],
   "source": [
    "a = 10, 20, 30, 40, 50 # tuple packing\n",
    "print(\"ID of a : \", id(a))\n",
    "\n",
    "a = 60, 70, 80, 90, 100 # tuple packing\n",
    "print(\"ID of a : \", id(a))\n"
   ]
  },
  {
   "cell_type": "code",
   "execution_count": 4,
   "metadata": {},
   "outputs": [
    {
     "name": "stdout",
     "output_type": "stream",
     "text": [
      "ID of b :  2736228385824\n",
      "ID of b :  2736228321456\n"
     ]
    }
   ],
   "source": [
    "b = \"Bhavya\"\n",
    "print(\"ID of b : \", id(b))\n",
    "\n",
    "b = \"Bhavya Garg\"\n",
    "print(\"ID of b : \", id(b))"
   ]
  },
  {
   "cell_type": "code",
   "execution_count": 5,
   "metadata": {},
   "outputs": [
    {
     "name": "stdout",
     "output_type": "stream",
     "text": [
      "Bhavya\n",
      "2736228385824\n",
      "Bhavya\n",
      "2736228385824\n"
     ]
    }
   ],
   "source": [
    "c = \"Bhavya\"\n",
    "print(c)\n",
    "print(id(c))\n",
    "\n",
    "c + \"Garg\"\n",
    "print(c)\n",
    "print(id(c))"
   ]
  },
  {
   "cell_type": "code",
   "execution_count": 6,
   "metadata": {},
   "outputs": [
    {
     "name": "stdout",
     "output_type": "stream",
     "text": [
      "Bhavya\n",
      "2736228385824\n",
      "Bhavya Garg\n",
      "2736228281072\n"
     ]
    }
   ],
   "source": [
    "c = \"Bhavya\"\n",
    "print(c)\n",
    "print(id(c))\n",
    "\n",
    "c += \" Garg\"\n",
    "print(c)\n",
    "print(id(c))"
   ]
  },
  {
   "cell_type": "code",
   "execution_count": 7,
   "metadata": {},
   "outputs": [
    {
     "name": "stdout",
     "output_type": "stream",
     "text": [
      "I am the best python developer/ web developer/ ai-ml developer\n",
      "string1[2 : 4]  :  am\n",
      "string1[5 : 9] :  the \n",
      "string1[ : 15] :  I am the best p\n",
      "string1[2 : ] :  am the best python developer/ web developer/ ai-ml developer\n",
      "string1[ : ] :  I am the best python developer/ web developer/ ai-ml developer\n",
      "string1[0 : 17 : 3] :  Imhbty\n",
      "string1[::] :  I am the best python developer/ web developer/ ai-ml developer\n",
      "string1[::-1] :  repoleved lm-ia /repoleved bew /repoleved nohtyp tseb eht ma I\n"
     ]
    }
   ],
   "source": [
    "string1 = \"I am the best python developer/ web developer/ ai-ml developer\"\n",
    "print(string1)\n",
    "print('string1[2 : 4]  : ', string1[2 : 4])\n",
    "print('string1[5 : 9] : ', string1[5 : 9])\n",
    "print('string1[ : 15] : ', string1[ : 15])\n",
    "print('string1[2 : ] : ', string1[2 : ])\n",
    "print('string1[ : ] : ', string1[ : ])\n",
    "print('string1[0 : 17 : 3] : ', string1[0 : 17 : 3])\n",
    "print('string1[::] : ', string1[::])\n",
    "print('string1[::-1] : ', string1[::-1])"
   ]
  },
  {
   "cell_type": "code",
   "execution_count": 8,
   "metadata": {},
   "outputs": [],
   "source": [
    "string2 = 'Hello'\n",
    "del string2\n",
    "# not possible[ERROR]\n",
    "# del string2[2]  "
   ]
  },
  {
   "cell_type": "code",
   "execution_count": 9,
   "metadata": {},
   "outputs": [
    {
     "name": "stdout",
     "output_type": "stream",
     "text": [
      "bhavya garg\n",
      "Bhavya garg\n",
      "Bhavya Garg\n"
     ]
    }
   ],
   "source": [
    "str = 'bhavya garg'\n",
    "str.capitalize()\n",
    "str2 = str.capitalize()\n",
    "str3 = str.title()\n",
    "print(str)\n",
    "print(str2)\n",
    "print(str3)"
   ]
  },
  {
   "cell_type": "markdown",
   "metadata": {},
   "source": [
    "### String `center()` Method\n",
    "- center() method alligns string to the centre and fills the padding left and right of the string.\n",
    "- this takes 2 parameter 1. length of the string 2. character to fillchar ehicj is optional.\n",
    "- fillchar is used to fill left and right padding of the module"
   ]
  },
  {
   "cell_type": "markdown",
   "metadata": {},
   "source": [
    "### String `count(<charector>, <Starting Index>, <Last Index>)` Method\n",
    "- count() method is used to count the number of occurrences of a substring in a string."
   ]
  },
  {
   "cell_type": "code",
   "execution_count": 10,
   "metadata": {},
   "outputs": [
    {
     "name": "stdout",
     "output_type": "stream",
     "text": [
      "4\n",
      "3\n",
      "1\n"
     ]
    }
   ],
   "source": [
    "str = \"My name is Bhavya Garg\"\n",
    "loc = str.count('a')\n",
    "print(loc)\n",
    "\n",
    "loc2 = str.count('a', 6)\n",
    "print(loc2)\n",
    "\n",
    "loc3 = str.count('a', 6, 15)\n",
    "print(loc3)"
   ]
  },
  {
   "cell_type": "markdown",
   "metadata": {},
   "source": [
    "### String `endswith(<charector>, <Starting Index>, <Last Index>)` Method\n",
    "check if element ends with the given charector"
   ]
  },
  {
   "cell_type": "code",
   "execution_count": 11,
   "metadata": {},
   "outputs": [
    {
     "name": "stdout",
     "output_type": "stream",
     "text": [
      "True\n",
      "True\n"
     ]
    }
   ],
   "source": [
    "str = \"Hello this is python class\"\n",
    "isends = str.endswith(\"class\")\n",
    "print(isends)\n",
    "\n",
    "isends = str.endswith(\"is\", 0, 10)\n",
    "print(isends)\n"
   ]
  },
  {
   "cell_type": "markdown",
   "metadata": {},
   "source": [
    "### String `startswith(<charector>, <Starting Index>, <Last Index>)` Method\n",
    "check if element starts with the given charector"
   ]
  },
  {
   "cell_type": "code",
   "execution_count": 12,
   "metadata": {},
   "outputs": [
    {
     "name": "stdout",
     "output_type": "stream",
     "text": [
      "True\n"
     ]
    }
   ],
   "source": [
    "str = \"hello this is a python class\"\n",
    "isstarts = str.startswith(\"is\", 8, 16)\n",
    "print(isstarts)\n"
   ]
  },
  {
   "cell_type": "markdown",
   "metadata": {},
   "source": []
  },
  {
   "cell_type": "markdown",
   "metadata": {},
   "source": [
    "### String `finds()` Method\n",
    "- Finds the element in the string using linear search\n",
    "* 1 is returned if the substring is not found.\n",
    "- this method returns the index of first occured substring"
   ]
  },
  {
   "cell_type": "code",
   "execution_count": 13,
   "metadata": {},
   "outputs": [
    {
     "name": "stdout",
     "output_type": "stream",
     "text": [
      "6\n",
      "-1\n"
     ]
    }
   ],
   "source": [
    "str = \"hello this is a python class\"\n",
    "str2 = str.find(\"th\")\n",
    "print(str2)\n",
    "\n",
    "# -1 is returned if the substring is not found\n",
    "str2 = str.find(\"the\")\n",
    "print(str2)"
   ]
  },
  {
   "cell_type": "markdown",
   "metadata": {},
   "source": [
    "### String `index()` Method\n",
    "- same as find but give error if substring is not found\n",
    "- this method returns the index of first occured substring"
   ]
  },
  {
   "cell_type": "code",
   "execution_count": 14,
   "metadata": {},
   "outputs": [
    {
     "name": "stdout",
     "output_type": "stream",
     "text": [
      "6\n"
     ]
    },
    {
     "ename": "ValueError",
     "evalue": "substring not found",
     "output_type": "error",
     "traceback": [
      "\u001b[1;31m---------------------------------------------------------------------------\u001b[0m",
      "\u001b[1;31mValueError\u001b[0m                                Traceback (most recent call last)",
      "Cell \u001b[1;32mIn[14], line 5\u001b[0m\n\u001b[0;32m      2\u001b[0m str2 \u001b[38;5;241m=\u001b[39m \u001b[38;5;28mstr\u001b[39m\u001b[38;5;241m.\u001b[39mindex(\u001b[38;5;124m\"\u001b[39m\u001b[38;5;124mth\u001b[39m\u001b[38;5;124m\"\u001b[39m)\n\u001b[0;32m      3\u001b[0m \u001b[38;5;28mprint\u001b[39m(str2)\n\u001b[1;32m----> 5\u001b[0m str2 \u001b[38;5;241m=\u001b[39m \u001b[38;5;28;43mstr\u001b[39;49m\u001b[38;5;241;43m.\u001b[39;49m\u001b[43mindex\u001b[49m\u001b[43m(\u001b[49m\u001b[38;5;124;43m\"\u001b[39;49m\u001b[38;5;124;43mthe\u001b[39;49m\u001b[38;5;124;43m\"\u001b[39;49m\u001b[43m)\u001b[49m\n\u001b[0;32m      6\u001b[0m \u001b[38;5;28mprint\u001b[39m(str2)\n",
      "\u001b[1;31mValueError\u001b[0m: substring not found"
     ]
    }
   ],
   "source": [
    "str = \"hello this is a python class\"\n",
    "str2 = str.index(\"th\")\n",
    "print(str2)\n",
    "\n",
    "str2 = str.index(\"the\")\n",
    "print(str2)"
   ]
  },
  {
   "cell_type": "markdown",
   "metadata": {},
   "source": [
    "### String `isalnum()` Method\n",
    "- checks whether all charector in string is alphanumeric or not\n",
    "- returns `True` if all charector are alphanumeric and `false` if not"
   ]
  },
  {
   "cell_type": "code",
   "execution_count": null,
   "metadata": {},
   "outputs": [],
   "source": [
    "str1 = \"Hello World\"\n",
    "str2 = \"123wel\"\n",
    "str3 = str1.isalnum()\n",
    "str4 = str2.isalnum()\n",
    "print(str3)\n",
    "print(str4)"
   ]
  },
  {
   "cell_type": "markdown",
   "metadata": {},
   "source": [
    "### String `isalpha()` Method\n",
    "- checks whether all charector in string is alphabatic or not\n",
    "- returns `True` if all charector are alphabatic and `false` if not"
   ]
  },
  {
   "cell_type": "code",
   "execution_count": null,
   "metadata": {},
   "outputs": [],
   "source": [
    "str1 = \"Hello World\"\n",
    "str2 = \"HelloWorld\"\n",
    "str3 = str1.isalpha()\n",
    "str4 = str2.isalpha()\n",
    "print(str3)\n",
    "print(str4)"
   ]
  },
  {
   "cell_type": "markdown",
   "metadata": {},
   "source": [
    "### String `islower()` Method\n",
    "- checks whether all charector in lowercase or not\n",
    "- returns `True` if all charector are lowercase and `false` if not"
   ]
  },
  {
   "cell_type": "code",
   "execution_count": null,
   "metadata": {},
   "outputs": [],
   "source": [
    "str1 = \"Hello World\"\n",
    "str2 = \"hello world\"\n",
    "str3 = str1.islower()\n",
    "str4 = str2.islower()\n",
    "print(str3)\n",
    "print(str4)"
   ]
  },
  {
   "cell_type": "markdown",
   "metadata": {},
   "source": [
    "### String `isupper()` Method\n",
    "- checks whether all charector in uppercase or not\n",
    "- returns `True` if all charector are uppercase and `false` if not"
   ]
  },
  {
   "cell_type": "code",
   "execution_count": null,
   "metadata": {},
   "outputs": [],
   "source": [
    "str1 = \"HELLO WORLD\"\n",
    "str2 = \"hello world\"\n",
    "str3 = str1.isupper()\n",
    "str4 = str2.isupper()\n",
    "print(str3)\n",
    "print(str4)"
   ]
  },
  {
   "cell_type": "markdown",
   "metadata": {},
   "source": [
    "### String `upper()` Method\n",
    "- convert all the characters in a string to upper case.\n",
    "- store value in another variable"
   ]
  },
  {
   "cell_type": "code",
   "execution_count": null,
   "metadata": {},
   "outputs": [],
   "source": [
    "str2 = \"hello world\"\n",
    "str4 = str2.upper()\n",
    "print(str4)"
   ]
  },
  {
   "cell_type": "markdown",
   "metadata": {},
   "source": [
    "### String `isnumeric()` Method\n",
    "- checks whether all charector are numeric or not\n",
    "- returns `True` if all charector are numeric and `false` if not"
   ]
  },
  {
   "cell_type": "code",
   "execution_count": null,
   "metadata": {},
   "outputs": [],
   "source": [
    "str1 = \"HELLO WORLD\"\n",
    "str2 = \"1325383\"\n",
    "str3 = str1.isnumeric()\n",
    "str4 = str2.isnumeric()\n",
    "print(str3)\n",
    "print(str4)"
   ]
  },
  {
   "cell_type": "markdown",
   "metadata": {},
   "source": [
    "### String `strip(<charector>) / rstrip(<charector>) / lstrip(<charector>)` Method\n",
    "- removes all the trailing charector from the string.\n",
    "- It means it removes all the charector from the end of the string.\n",
    "\n"
   ]
  },
  {
   "cell_type": "code",
   "execution_count": null,
   "metadata": {},
   "outputs": [],
   "source": [
    "str = \"*****python*****\"\n",
    "str2 =  str.lstrip(\"*\")\n",
    "str3 =  str.rstrip(\"*\")\n",
    "str4 =  str.strip(\"*\")\n",
    "\n",
    "print(str2)\n",
    "print(str3)\n",
    "print(str4)"
   ]
  },
  {
   "cell_type": "markdown",
   "metadata": {},
   "source": []
  },
  {
   "cell_type": "markdown",
   "metadata": {},
   "source": [
    "### String `replace(<old charectors>,<new charectors>, <no. of time to replace>)` Method\n",
    "replace method is used \n"
   ]
  },
  {
   "cell_type": "code",
   "execution_count": null,
   "metadata": {},
   "outputs": [],
   "source": [
    "str = \"python is a python programming language. python is a high level language\"\n",
    "str2 = str.replace('python', 'java', 0)\n",
    "print(str2)"
   ]
  },
  {
   "cell_type": "code",
   "execution_count": null,
   "metadata": {},
   "outputs": [],
   "source": [
    "str = \"HELLO Bhavya\"\n",
    "str2 = str.swapcase()\n",
    "print(str2)"
   ]
  },
  {
   "cell_type": "code",
   "execution_count": null,
   "metadata": {},
   "outputs": [],
   "source": [
    "str = \"pyt123hon swapcase() m554ethod converts\"\n",
    "spChar = []\n",
    "alpha = []\n",
    "num = []\n",
    "sum = 0\n",
    "for i in range(len(str)):\n",
    "    if str[i].isalpha():\n",
    "        alpha.append(str[i])\n",
    "    elif str[i].isnumeric():\n",
    "        sum += int(str[i])\n",
    "        num.append(str[i])\n",
    "    else:\n",
    "        spChar.append(str[i])\n",
    "        \n",
    "print(\"Special Charector : \", spChar)\n",
    "print(\"Alpha Charectors : \", alpha)\n",
    "print(\"Sum : \", sum)"
   ]
  },
  {
   "cell_type": "code",
   "execution_count": null,
   "metadata": {},
   "outputs": [],
   "source": [
    "def string_extraction(str):\n",
    "    spChar = []\n",
    "    alpha = []\n",
    "    num = []\n",
    "    sum = 0\n",
    "    for i in range(len(str)):\n",
    "        if str[i].isalpha():\n",
    "            alpha.append(str[i])\n",
    "        elif str[i].isnumeric():\n",
    "            sum += int(str[i])\n",
    "            num.append(str[i])\n",
    "        else:\n",
    "            spChar.append(str[i])\n",
    "    return alpha,num,spChar,sum\n",
    "\n",
    "\n",
    "# driver code\n",
    "alpha,num,spChar,sum = string_extraction(\"pyt123hon swapcase() m554ethod converts\")\n",
    "\n",
    "print(\"Special Charector : \", spChar)\n",
    "print(\"Alpha Charectors : \", alpha)\n",
    "print(\"Sum : \", sum)"
   ]
  },
  {
   "cell_type": "code",
   "execution_count": null,
   "metadata": {},
   "outputs": [],
   "source": [
    "'''\n",
    "dict = {'a':1,'b':1,'c':3, 'd':3, 'e':4, 'f':5, 'g':6, 'h':7, 'i':7}\n",
    "\n",
    "for key in dict:\n",
    "    value = dict[key] \n",
    "   \n",
    "    \n",
    "    for i in dict:\n",
    "        if value == dict[key]:\n",
    "            if key == i:\n",
    "                continue\n",
    "            else:\n",
    "'''\n",
    "                "
   ]
  }
 ],
 "metadata": {
  "kernelspec": {
   "display_name": "venv",
   "language": "python",
   "name": "python3"
  },
  "language_info": {
   "codemirror_mode": {
    "name": "ipython",
    "version": 3
   },
   "file_extension": ".py",
   "mimetype": "text/x-python",
   "name": "python",
   "nbconvert_exporter": "python",
   "pygments_lexer": "ipython3",
   "version": "3.12.4"
  }
 },
 "nbformat": 4,
 "nbformat_minor": 2
}
