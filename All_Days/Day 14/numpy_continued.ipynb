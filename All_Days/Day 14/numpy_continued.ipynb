{
 "cells": [
  {
   "cell_type": "code",
   "execution_count": 11,
   "metadata": {},
   "outputs": [
    {
     "name": "stdout",
     "output_type": "stream",
     "text": [
      "[1 2 3 4 5]\n",
      "[2 3 4]\n",
      "[  1   2 100   4   5]\n",
      "[  2 100   4]\n"
     ]
    }
   ],
   "source": [
    "import numpy as np\n",
    "arr = np.array([1,2,3,4,5])\n",
    "arr2 = arr[1:4]\n",
    "print(arr, sep=', ')\n",
    "print(arr2, sep=', ')\n",
    "\n",
    "arr2[1] = 100\n",
    "print(arr, sep=', ')\n",
    "print(arr2, sep=', ')"
   ]
  },
  {
   "cell_type": "markdown",
   "metadata": {},
   "source": [
    "##### **`copy()`**<hr/> The copy owns the data and any changes made to the copy will not affect original array, and any changes made to the original array will not affect the copy."
   ]
  },
  {
   "cell_type": "code",
   "execution_count": 14,
   "metadata": {},
   "outputs": [
    {
     "name": "stdout",
     "output_type": "stream",
     "text": [
      "[42  2  3  4  5]\n",
      "[1 2 3 4 5]\n"
     ]
    }
   ],
   "source": [
    "import numpy as np\n",
    "\n",
    "arr = np.array([1, 2, 3, 4, 5])\n",
    "x = arr.copy()\n",
    " \n",
    "arr[0] = 42\n",
    "print(arr)\n",
    "print(x)"
   ]
  },
  {
   "cell_type": "markdown",
   "metadata": {},
   "source": [
    "##### **`view()`**<hr/> The view does not own the data and any changes made to the view will affect the original array, and any changes made to the original array will affect the view."
   ]
  },
  {
   "cell_type": "code",
   "execution_count": 15,
   "metadata": {},
   "outputs": [
    {
     "name": "stdout",
     "output_type": "stream",
     "text": [
      "[42  2  3  4  5]\n",
      "[42  2  3  4  5]\n"
     ]
    }
   ],
   "source": [
    "import numpy as np\n",
    "\n",
    "arr = np.array([1, 2, 3, 4, 5])\n",
    "x = arr.view()\n",
    "arr[0] = 42\n",
    "print(arr)\n",
    "print(x)"
   ]
  },
  {
   "cell_type": "markdown",
   "metadata": {},
   "source": [
    "\n",
    "##### **`zeros()`**<hr/> The zero function returns a new array of given shape and type, filled with zeros."
   ]
  },
  {
   "cell_type": "code",
   "execution_count": 13,
   "metadata": {},
   "outputs": [
    {
     "name": "stdout",
     "output_type": "stream",
     "text": [
      "[[0. 0. 0.]\n",
      " [0. 0. 0.]\n",
      " [0. 0. 0.]\n",
      " [0. 0. 0.]\n",
      " [0. 0. 0.]]\n"
     ]
    }
   ],
   "source": [
    "import numpy as np\n",
    "arr = np.zeros((5, 3))\n",
    "print(arr)"
   ]
  },
  {
   "cell_type": "code",
   "execution_count": 19,
   "metadata": {},
   "outputs": [
    {
     "name": "stdout",
     "output_type": "stream",
     "text": [
      "[[9. 9. 9. 9.]\n",
      " [9. 9. 9. 9.]\n",
      " [9. 9. 9. 9.]\n",
      " [9. 9. 9. 9.]]\n"
     ]
    }
   ],
   "source": [
    "import numpy as np\n",
    "arr = np.zeros((4,4)) + 9\n",
    "print(arr)"
   ]
  },
  {
   "cell_type": "markdown",
   "metadata": {},
   "source": [
    "##### **`ones()`**<hr/> The ones() function returns a new array of given shape and type, filled with ones."
   ]
  },
  {
   "cell_type": "code",
   "execution_count": 31,
   "metadata": {},
   "outputs": [
    {
     "name": "stdout",
     "output_type": "stream",
     "text": [
      "[[1 1 1]\n",
      " [1 1 1]\n",
      " [1 1 1]]\n"
     ]
    }
   ],
   "source": [
    "# create array with hetrogeneous data type\n",
    "arr = np.ones((3,3), dtype=int ) # dtype=[(x, int)]\n",
    "print(arr)"
   ]
  },
  {
   "cell_type": "markdown",
   "metadata": {},
   "source": [
    "\n",
    "##### **`eye()`**<hr/> The eye function is used to create a matrix with 1s on the diagonal and 0s elsewhere."
   ]
  },
  {
   "cell_type": "code",
   "execution_count": 21,
   "metadata": {},
   "outputs": [
    {
     "name": "stdout",
     "output_type": "stream",
     "text": [
      "[[1. 0. 0.]\n",
      " [0. 1. 0.]\n",
      " [0. 0. 1.]]\n"
     ]
    }
   ],
   "source": [
    "import numpy\n",
    "arr4 = numpy.eye(3)\n",
    "print(arr4)"
   ]
  },
  {
   "cell_type": "markdown",
   "metadata": {},
   "source": [
    "\n",
    "##### **`diag()`**<hr/> The diag function returns the diagonal elements of a matrix."
   ]
  },
  {
   "cell_type": "code",
   "execution_count": 22,
   "metadata": {},
   "outputs": [
    {
     "name": "stdout",
     "output_type": "stream",
     "text": [
      "[[ 7  0  0]\n",
      " [ 0 10  0]\n",
      " [ 0  0 15]]\n"
     ]
    }
   ],
   "source": [
    "import numpy\n",
    "arr4 = numpy.diag((7, 10 ,15))\n",
    "print(arr4)"
   ]
  },
  {
   "cell_type": "code",
   "execution_count": 34,
   "metadata": {},
   "outputs": [
    {
     "name": "stdout",
     "output_type": "stream",
     "text": [
      "[[10 20 30]\n",
      " [40 50 60]]\n",
      "[[ 7  0  0]\n",
      " [ 0 10  0]\n",
      " [ 0  0 15]]\n"
     ]
    }
   ],
   "source": [
    "import numpy\n",
    "\n",
    "arr = numpy.array([[10, 20, 30], [40, 50, 60]])\n",
    "print(arr)\n",
    "\n",
    "arr4 = numpy.diag((7, 10 ,15))\n",
    "print(arr4)"
   ]
  },
  {
   "cell_type": "code",
   "execution_count": 37,
   "metadata": {},
   "outputs": [
    {
     "name": "stdout",
     "output_type": "stream",
     "text": [
      "[[ 5  0  0  0  0]\n",
      " [ 0 96  0  0  0]\n",
      " [ 0  0  3  0  0]\n",
      " [ 0  0  0  2  0]\n",
      " [ 0  0  0  0  1]]\n"
     ]
    }
   ],
   "source": [
    "import numpy\n",
    "\n",
    "arr4 = numpy.diag((5, 96 ,3,2, 1))\n",
    "print(arr4)"
   ]
  },
  {
   "cell_type": "markdown",
   "metadata": {},
   "source": [
    "##### **`rand()`**<hr/> The rand function returns a floating-point value between 0 and 1.\n",
    "##### **`randint()`**<hr/> The randint function returns a random integer between the specified values."
   ]
  },
  {
   "cell_type": "code",
   "execution_count": 45,
   "metadata": {},
   "outputs": [
    {
     "name": "stdout",
     "output_type": "stream",
     "text": [
      "[6 4 2 6]\n"
     ]
    }
   ],
   "source": [
    "rand = np.random.randint(1, 10,4)\n",
    "print(rand)"
   ]
  },
  {
   "cell_type": "code",
   "execution_count": 46,
   "metadata": {},
   "outputs": [
    {
     "name": "stdout",
     "output_type": "stream",
     "text": [
      "[[0.41914167 0.25498473 0.83789355]\n",
      " [0.12455401 0.53144529 0.43517319]]\n"
     ]
    }
   ],
   "source": [
    "rand = np.random.rand(2,3)  # rand(rows, column)\n",
    "print(rand)"
   ]
  },
  {
   "cell_type": "markdown",
   "metadata": {},
   "source": [
    "#### **`reshape()`**<hr/>\n",
    "- The reshape function in NumPy allows you to change the shape (dimensions) of an array without changing its data. \n",
    "- This can be useful when you want to rearrange the way data is organized in an array, such as converting a 1-dimensional array into a 2-dimensional matrix or vice versa, or changing the size of a multi-dimensional array while maintaining the total number of elements.\n",
    "- That means if you start with the same seed and use the same sequence of random number generation operations, you will get the same sequence of random numbers every time.\n",
    "- This can be useful in situations where you need predictable random numbers for debugging, testing, or simulations."
   ]
  },
  {
   "cell_type": "code",
   "execution_count": 47,
   "metadata": {},
   "outputs": [
    {
     "name": "stdout",
     "output_type": "stream",
     "text": [
      "[36 67 17 81  4 24 42  3 24 26]\n",
      "[[36 67 17 81  4]\n",
      " [24 42  3 24 26]]\n"
     ]
    }
   ],
   "source": [
    "import numpy as np\n",
    "\n",
    "random_numbers = np.random.randint(1, 100, 10)\n",
    "print(random_numbers)\n",
    "\n",
    "random_numbers = random_numbers.reshape(2, 5)\n",
    "print(random_numbers)"
   ]
  },
  {
   "cell_type": "code",
   "execution_count": 55,
   "metadata": {},
   "outputs": [
    {
     "name": "stdout",
     "output_type": "stream",
     "text": [
      "[[ 1  2  3]\n",
      " [ 4  5  6]\n",
      " [ 7  8  9]\n",
      " [10 11 12]] \n",
      "\n",
      "values of Array[0][1] :  2\n",
      "values of Array[1][0] :  4\n",
      "shape of array :  (4, 3) \n",
      "\n",
      "reshape of array in (-1, 4) : \n",
      "[[ 1  2  3  4]\n",
      " [ 5  6  7  8]\n",
      " [ 9 10 11 12]] \n",
      "\n",
      "reshape of array in (2, -1) : \n",
      "[[ 1  2  3  4  5  6]\n",
      " [ 7  8  9 10 11 12]]\n"
     ]
    }
   ],
   "source": [
    "import numpy as np\n",
    "arr = np.array([1, 2, 3, 4, 5, 6, 7, 8, 9, 10, 11, 12])\n",
    "\n",
    "arr = arr.reshape(4,3)\n",
    "print(arr, '\\n')\n",
    "\n",
    "print(\"values of Array[0][1] : \", arr[0][1])\n",
    "print(\"values of Array[1][0] : \", arr[1][0])\n",
    "print(\"shape of array : \", arr.shape, '\\n')\n",
    "\n",
    "arr = arr.reshape(-1,4)\n",
    "print(f\"reshape of array in (-1, 4) : \\n{arr} \\n\")\n",
    "\n",
    "arr = arr.reshape(2,-1)\n",
    "print(f\"reshape of array in (2, -1) : \\n{arr}\")\n"
   ]
  },
  {
   "cell_type": "markdown",
   "metadata": {},
   "source": [
    "##### **`seed()`**<hr/> The seed function is used to initialize the internal state of the random number generator. It takes a single integer argument and uses it to initialize the generator."
   ]
  },
  {
   "cell_type": "code",
   "execution_count": 75,
   "metadata": {},
   "outputs": [
    {
     "name": "stdout",
     "output_type": "stream",
     "text": [
      "[[265 125 484  15 320]\n",
      " [369 123 156 473 221]\n",
      " [496 413 369   8  73]\n",
      " [256 490  40 420 371]\n",
      " [ 16 356 239 395  54]\n",
      " [344 363 122  62  33]] \n",
      "\n",
      "[[369   8  73]\n",
      " [ 40 420 371]\n",
      " [239 395  54]\n",
      " [122  62  33]] \n",
      "\n",
      "[[ 40 420]\n",
      " [239 395]] \n",
      "\n"
     ]
    }
   ],
   "source": [
    "import numpy as np\n",
    "\n",
    "np.random.seed(10)\n",
    "arr = np.random.randint(0,500,30).reshape(6,5)\n",
    "print(arr, '\\n')\n",
    "arr\n",
    "print(arr[2:, 2:], '\\n')\n",
    "print(arr[3:5, 2:4], '\\n')"
   ]
  },
  {
   "cell_type": "code",
   "execution_count": 77,
   "metadata": {},
   "outputs": [
    {
     "name": "stdout",
     "output_type": "stream",
     "text": [
      "[ 1  2  3  4  5  6  7  8  9 10 11 12 13 14 15 16 17 18 19 20]\n",
      "[5 6 7 8 9]\n",
      "<class 'numpy.ndarray'>\n",
      "<class 'numpy.ndarray'>\n",
      "[ 1  2  3  4  0  0  0  0  0 10 11 12 13 14 15 16 17 18 19 20]\n",
      "[0 0 0 0 0]\n"
     ]
    }
   ],
   "source": [
    "arr = np.array([1, 2, 3, 4, 5, 6, 7, 8, 9, 10, 11, 12, 13, 14, 15, 16, 17, 18, 19, 20])\n",
    "slicing = arr[4:9]\n",
    "print(arr)\n",
    "print(slicing)\n",
    "\n",
    "print(type(arr))\n",
    "print(type(slicing))\n",
    "\n",
    "slicing[:] = 0\n",
    "print(arr)\n",
    "print(slicing)"
   ]
  }
 ],
 "metadata": {
  "kernelspec": {
   "display_name": "venv",
   "language": "python",
   "name": "python3"
  },
  "language_info": {
   "codemirror_mode": {
    "name": "ipython",
    "version": 3
   },
   "file_extension": ".py",
   "mimetype": "text/x-python",
   "name": "python",
   "nbconvert_exporter": "python",
   "pygments_lexer": "ipython3",
   "version": "3.12.4"
  }
 },
 "nbformat": 4,
 "nbformat_minor": 2
}
