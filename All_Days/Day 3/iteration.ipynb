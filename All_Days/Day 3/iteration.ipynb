{
 "cells": [
  {
   "cell_type": "markdown",
   "metadata": {},
   "source": [
    "## ITERATION`(REPETITION)` :-\n",
    "### FOR LOOP / WHILE LOOP :-\n",
    "#### THE SAME GROUP OF STATEMENT GETS REPEATED UNTILL THE CONDITION BECOMES FALSE.\n",
    "* STEP - 1 : INITIALIZATION\n",
    "* STEP - 2 : CONDITION\n",
    "* STEP - 3 : UPDATION\n"
   ]
  },
  {
   "cell_type": "code",
   "execution_count": null,
   "metadata": {},
   "outputs": [],
   "source": [
    "for x in [20, 90, 80, 30, 70, 59, 73, 87, 88,59]:\n",
    "    print(x)"
   ]
  }
 ],
 "metadata": {
  "language_info": {
   "name": "python"
  }
 },
 "nbformat": 4,
 "nbformat_minor": 2
}
