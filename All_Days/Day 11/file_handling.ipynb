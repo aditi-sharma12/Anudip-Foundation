{
 "cells": [
  {
   "cell_type": "code",
   "execution_count": 3,
   "metadata": {},
   "outputs": [
    {
     "name": "stdout",
     "output_type": "stream",
     "text": [
      "file created successfully\n"
     ]
    }
   ],
   "source": [
    "file = open(\"test.txt\",'w')\n",
    "\n",
    "if file:\n",
    "    print(\"file created successfully\")\n",
    "else:\n",
    "    print(\"file not created successfully\")\n",
    "\n",
    "\n",
    "file.write(\"welcome to text file welcome to text filewelcome to text filewelcome to text filewelcome to text filewelcome to text filewelcome to text filewelcome to text filewelcome to text filewelcome to text filewelcome to text file\")\n",
    "\n",
    "file.close()"
   ]
  },
  {
   "cell_type": "code",
   "execution_count": 5,
   "metadata": {},
   "outputs": [
    {
     "name": "stdout",
     "output_type": "stream",
     "text": [
      "welcome to text file welcome to text filewelcome to text filewelcome to text filewelcome to text filewelcome to text filewelcome to text filewelcome to text filewelcome to text filewelcome to text filewelcome to text file\n"
     ]
    }
   ],
   "source": [
    "# with statement\n",
    "with open(\"test1.txt\",'w') as test_file:\n",
    "    test_file.write(\" hello world world \")\n",
    "\n",
    "\n",
    "with open(\"test.txt\",'r') as test_file:\n",
    "    data = test_file.read()\n",
    "    print(data)"
   ]
  },
  {
   "cell_type": "code",
   "execution_count": 8,
   "metadata": {},
   "outputs": [
    {
     "name": "stdout",
     "output_type": "stream",
     "text": [
      "test.txt\n",
      "welcome to text file welcome to text filewelcome to text filewelcome to text filewelcome to text filewelcome to text filewelcome to text filewelcome to text filewelcome to text filewelcome to text filewelcome to text file\n",
      "Search for'welcome' completed\n"
     ]
    }
   ],
   "source": [
    "# Searching data in file \n",
    "file_path = \"test.txt\"\n",
    "print(file_path)\n",
    "\n",
    "search_keyword= input(\"Enter the txt which you want to search : \")\n",
    "with open(file_path,'r') as file2:\n",
    "    for line in file2 :\n",
    "        if search_keyword.lower() in line.lower():\n",
    "            print(line.strip())\n",
    "\n",
    "print(f\"Search for '{search_keyword}' completed\")"
   ]
  },
  {
   "cell_type": "code",
   "execution_count": 9,
   "metadata": {},
   "outputs": [
    {
     "name": "stdout",
     "output_type": "stream",
     "text": [
      "data loaded\n",
      "[1, 2, 33, 4, 44, 3, 2]\n"
     ]
    }
   ],
   "source": [
    "# Handling Binary file (.dat)\n",
    "import pickle \n",
    "file= open(\"first.dat\",\"wb\")\n",
    "\n",
    "t =[1, 2, 33, 4, 44, 3, 2]\n",
    "\n",
    "pickle.dump(t, file)\n",
    "\n",
    "file.close()\n",
    "\n",
    "print(\"data loaded\") \n",
    "\n",
    "\n",
    "\n",
    "f = open(\"first.dat\",\"rb\")\n",
    "data2 = pickle.load(f)\n",
    "print(data2)\n",
    "f.close()"
   ]
  },
  {
   "cell_type": "code",
   "execution_count": 10,
   "metadata": {},
   "outputs": [],
   "source": [
    "# Handling comma seperated file (.csv)\n",
    "\n",
    "import csv\n",
    "\n",
    "f = open(\"second.csv\",'a',newline=\"\")\n",
    "\n",
    "wo = csv.writer(f)\n",
    "\n",
    "data = [\n",
    "        ['a', 'b', 'c', 'd', 'e',], \n",
    "        [16, 16, 45, 24, 134, 14, 41, 414, 1414, 141], \n",
    "        [34, 234, 243, 2342, 3434, 234, 234, 23]\n",
    "       ]\n",
    "\n",
    "wo.writerows(data)\n",
    "\n",
    "f.close()"
   ]
  },
  {
   "cell_type": "code",
   "execution_count": 16,
   "metadata": {},
   "outputs": [
    {
     "name": "stdout",
     "output_type": "stream",
     "text": [
      "['a', 'b', 'c', 'd', 'e']\n",
      "['16', '16', '45', '24', '134', '14', '41', '414', '1414', '141']\n",
      "['34', '234', '243', '2342', '3434', '234', '234', '23']\n"
     ]
    }
   ],
   "source": [
    "file = open(\"second.csv\",'r')\n",
    "\n",
    "re = csv.reader(file)\n",
    "\n",
    "li= list(re)\n",
    "\n",
    "for row in li:\n",
    "    print(row)\n",
    "\n",
    "file.close()"
   ]
  }
 ],
 "metadata": {
  "kernelspec": {
   "display_name": "venv",
   "language": "python",
   "name": "python3"
  },
  "language_info": {
   "codemirror_mode": {
    "name": "ipython",
    "version": 3
   },
   "file_extension": ".py",
   "mimetype": "text/x-python",
   "name": "python",
   "nbconvert_exporter": "python",
   "pygments_lexer": "ipython3",
   "version": "3.12.4"
  }
 },
 "nbformat": 4,
 "nbformat_minor": 2
}
