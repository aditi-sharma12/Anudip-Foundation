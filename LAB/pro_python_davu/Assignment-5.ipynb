{
 "cells": [
  {
   "cell_type": "code",
   "execution_count": 3,
   "metadata": {},
   "outputs": [
    {
     "name": "stdout",
     "output_type": "stream",
     "text": [
      "The ocean breeze whispered secrets through the swaying palm trees, sending chills down Amelia's exposed arms\n",
      "  Seagulls cried overhead, their calls echoing off the rocky cliffs\n",
      " Below, the turquoise water shimmered like a million scattered jewels, inviting her for a swim\n",
      " Hunger pangs grumbled in her stomach, reminding her of the picnic basket overflowing with delicious treats\n",
      "\n"
     ]
    }
   ],
   "source": [
    "# 1. Write a function in python to read the content from a text file \"ABC.txt\" line by line and display the same on screen.\n",
    "\n",
    "with open(\"ABC.txt\", \"r\") as f:\n",
    "    data = f.read()\n",
    "\n",
    "    for line in data.split(\".\"):\n",
    "        print(line)"
   ]
  },
  {
   "cell_type": "code",
   "execution_count": 4,
   "metadata": {},
   "outputs": [
    {
     "name": "stdout",
     "output_type": "stream",
     "text": [
      "Total number of words in the file: 57\n"
     ]
    }
   ],
   "source": [
    "# 2. Write a function in Python to count and display the total number of words in a text file \"ABC.txt\"\n",
    "with open(\"ABC.txt\", \"r\") as f:\n",
    "    text = f.read()\n",
    "    words = text.split()\n",
    "    print(\"Total number of words in the file:\", len(words))"
   ]
  },
  {
   "cell_type": "code",
   "execution_count": 5,
   "metadata": {},
   "outputs": [
    {
     "name": "stdout",
     "output_type": "stream",
     "text": [
      "Number of uppercase characters: 5\n"
     ]
    }
   ],
   "source": [
    "# 3. Write a function in Python to count uppercase character in a text file \"ABC.txt\"\n",
    "with open(\"ABC.txt\", \"r\") as f:\n",
    "    count = 0\n",
    "    for line in f:\n",
    "        # print(line)\n",
    "        for char in line:\n",
    "            # print(char)\n",
    "            if char.isupper():\n",
    "                count += 1\n",
    "    print(\"Number of uppercase characters:\", count)"
   ]
  },
  {
   "cell_type": "code",
   "execution_count": 6,
   "metadata": {},
   "outputs": [
    {
     "name": "stdout",
     "output_type": "stream",
     "text": [
      "In\n",
      "the\n",
      "by\n",
      "of\n",
      "a\n",
      "her\n",
      "she\n",
      "for\n",
      "a\n",
      "by\n",
      "and\n",
      "a\n",
      "for\n",
      "and\n",
      "her\n",
      "a\n",
      "she\n",
      "the\n",
      "her\n",
      "as\n",
      "she\n",
      "the\n",
      "for\n",
      "the\n",
      "in\n",
      "a\n",
      "the\n"
     ]
    }
   ],
   "source": [
    "# 4. Write a function display_words() in python to read lines from a text file \"story.txt\", and display those words,\n",
    "# which are less than 4 characters.\n",
    "with open(\"story.txt\",\"r\") as f:\n",
    "    for line in f:\n",
    "        words = line.split()\n",
    "        for word in words:\n",
    "            if len(word) < 4:\n",
    "                print(word)"
   ]
  },
  {
   "cell_type": "markdown",
   "metadata": {},
   "source": [
    "#### ASSIGNMENT"
   ]
  },
  {
   "cell_type": "code",
   "execution_count": 9,
   "metadata": {},
   "outputs": [
    {
     "name": "stdout",
     "output_type": "stream",
     "text": [
      "Cannot divide by zero\n"
     ]
    }
   ],
   "source": [
    "# 1. Write a Python program to handle a ZeroDivisionError exception when dividing a number by zero.\n",
    "\n",
    "try:\n",
    "    a = int(input(\"Enter a number: \"))\n",
    "    b = int(input(\"Enter a number: \"))\n",
    "    c = a/b\n",
    "    print(c)\n",
    "except ZeroDivisionError:\n",
    "    \n",
    "    print(\"Cannot divide by zero\")"
   ]
  },
  {
   "cell_type": "code",
   "execution_count": 10,
   "metadata": {},
   "outputs": [
    {
     "name": "stdout",
     "output_type": "stream",
     "text": [
      "Invalid input. Please enter a valid integer.\n"
     ]
    }
   ],
   "source": [
    "# 2. Write a Python program that prompts the user to input an integer and raises a ValueError exception if the input is not a valid integer.\n",
    "try:\n",
    "    a = int(input(\"Enter a number: \"))\n",
    "    print(\"You entered:\", a)\n",
    "except ValueError:\n",
    "    print(\"Invalid input. Please enter a valid integer.\")"
   ]
  },
  {
   "cell_type": "code",
   "execution_count": 11,
   "metadata": {},
   "outputs": [
    {
     "name": "stdout",
     "output_type": "stream",
     "text": [
      "File not found\n"
     ]
    }
   ],
   "source": [
    "# 3. Write a Python program that opens a file and handles a FileNotFoundError exception if the file does not exist.\n",
    "\n",
    "try:\n",
    "    f=open(\"file.txt\",\"r\")\n",
    "    f.read()\n",
    "except FileNotFoundError:\n",
    "    print(\"File not found\")\n"
   ]
  },
  {
   "cell_type": "code",
   "execution_count": 12,
   "metadata": {},
   "outputs": [
    {
     "name": "stdout",
     "output_type": "stream",
     "text": [
      "Inputs are not numerical\n"
     ]
    }
   ],
   "source": [
    "# 4. Write a Python program that prompts the user to input two numbers and raises a TypeError exception if the inputs are not \n",
    "#    numerical.\n",
    "try:\n",
    "    a = float(input(\"Enter a number: \"))\n",
    "    b = float(input(\"Enter another number: \"))\n",
    "    print(\"You entered:\", a, \" and \", b)\n",
    "except ValueError:\n",
    "    print(\"Inputs are not numerical\")"
   ]
  }
 ],
 "metadata": {
  "kernelspec": {
   "display_name": "venv",
   "language": "python",
   "name": "python3"
  },
  "language_info": {
   "codemirror_mode": {
    "name": "ipython",
    "version": 3
   },
   "file_extension": ".py",
   "mimetype": "text/x-python",
   "name": "python",
   "nbconvert_exporter": "python",
   "pygments_lexer": "ipython3",
   "version": "3.12.4"
  }
 },
 "nbformat": 4,
 "nbformat_minor": 2
}
