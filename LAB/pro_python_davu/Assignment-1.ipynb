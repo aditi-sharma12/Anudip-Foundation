{
 "cells": [
  {
   "cell_type": "code",
   "execution_count": 3,
   "metadata": {},
   "outputs": [
    {
     "name": "stdout",
     "output_type": "stream",
     "text": [
      "5 is Odd.\n"
     ]
    }
   ],
   "source": [
    "# 1. Using input() function take one number from the user and using ternary operators check whether the number is even or odd.\n",
    "\n",
    "num = int(input(\"Enter a number: \"))\n",
    "result = \"Even\" if num % 2 == 0 else \"Odd\"\n",
    "print(f\"{num} is {result}.\")"
   ]
  },
  {
   "cell_type": "code",
   "execution_count": 4,
   "metadata": {},
   "outputs": [
    {
     "name": "stdout",
     "output_type": "stream",
     "text": [
      "Before swapping:\n",
      "First number: 10\n",
      "Second number: 5\n",
      "After swapping:\n",
      "First number: 5\n",
      "Second number: 10\n"
     ]
    }
   ],
   "source": [
    "# 2. Using input function take two number and then swap the number\n",
    "num1 = int(input(\"Enter the first number: \"))\n",
    "num2 = int(input(\"Enter the second number: \"))\n",
    "print(\"Before swapping:\")\n",
    "print(\"First number:\", num1)\n",
    "print(\"Second number:\", num2)\n",
    "num1, num2 = num2, num1\n",
    "print(\"After swapping:\")\n",
    "print(\"First number:\", num1)\n",
    "print(\"Second number:\", num2)"
   ]
  },
  {
   "cell_type": "code",
   "execution_count": 5,
   "metadata": {},
   "outputs": [
    {
     "name": "stdout",
     "output_type": "stream",
     "text": [
      "The Kilometer in Miles is: 6.21371\n"
     ]
    }
   ],
   "source": [
    "# 3. Write a Program to Convert Kilometers to Miles\n",
    "\n",
    "kilometer=float(input(\"Enter the Kilometer: \"))\n",
    "# 1 kilometer = 0.621371 miles\n",
    "miles=kilometer*0.621371\n",
    "print(\"The Kilometer in Miles is:\",miles)"
   ]
  },
  {
   "cell_type": "code",
   "execution_count": 6,
   "metadata": {},
   "outputs": [
    {
     "name": "stdout",
     "output_type": "stream",
     "text": [
      "Simple Interest is: 50.0\n"
     ]
    }
   ],
   "source": [
    "# 4. Find the Simple Interest on Rs. 200 for 5 years at 5% per year\n",
    "\n",
    "p = 200\n",
    "r = 5\n",
    "t = 5\n",
    "si=(p*t*r)/100\n",
    "print(\"Simple Interest is:\",si)"
   ]
  },
  {
   "cell_type": "code",
   "execution_count": null,
   "metadata": {},
   "outputs": [],
   "source": []
  }
 ],
 "metadata": {
  "kernelspec": {
   "display_name": "venv",
   "language": "python",
   "name": "python3"
  },
  "language_info": {
   "codemirror_mode": {
    "name": "ipython",
    "version": 3
   },
   "file_extension": ".py",
   "mimetype": "text/x-python",
   "name": "python",
   "nbconvert_exporter": "python",
   "pygments_lexer": "ipython3",
   "version": "3.12.4"
  }
 },
 "nbformat": 4,
 "nbformat_minor": 2
}
