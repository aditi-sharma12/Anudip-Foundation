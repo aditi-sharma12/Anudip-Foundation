{
 "cells": [
  {
   "cell_type": "code",
   "execution_count": 2,
   "metadata": {},
   "outputs": [
    {
     "name": "stdout",
     "output_type": "stream",
     "text": [
      "1700 is not a leap year.\n"
     ]
    }
   ],
   "source": [
    "# 1. Python program to check leap year\n",
    "\n",
    "year = int(input(\"Enter the year: \"))\n",
    "if (year % 4 == 0 and year % 100 != 0) or (year % 400 == 0):\n",
    "    print(year, \"is a leap year.\")\n",
    "else:\n",
    "    print(year, \"is not a leap year.\")"
   ]
  },
  {
   "cell_type": "code",
   "execution_count": 4,
   "metadata": {},
   "outputs": [
    {
     "name": "stdout",
     "output_type": "stream",
     "text": [
      "The largest number is: 10\n"
     ]
    }
   ],
   "source": [
    "# 2. Python Program to Find the Largest Among Three Numbers\n",
    "\n",
    "num1 = int(input(\"Enter the first number: \"))\n",
    "num2 = int(input(\"Enter the second number: \"))\n",
    "num3 = int(input(\"Enter the third number: \"))\n",
    "\n",
    "if num1 >= num2 and num1 >= num3:\n",
    "    largest = num1\n",
    "elif num2 >= num1 and num2 >= num3:\n",
    "    largest = num2\n",
    "else:\n",
    "    largest = num3\n",
    "    \n",
    "print(\"The largest number is:\", largest)"
   ]
  },
  {
   "cell_type": "code",
   "execution_count": 5,
   "metadata": {},
   "outputs": [
    {
     "name": "stdout",
     "output_type": "stream",
     "text": [
      "Positive number\n"
     ]
    }
   ],
   "source": [
    "# 3. Python Program to Check if a Number is Positive, Negative or 0.\n",
    "temp = float(input(\"Enter a number: \"))\n",
    "if temp > 0:\n",
    "   print(\"Positive number\")\n",
    "elif temp == 0:\n",
    "   print(\"Zero\")\n",
    "else:\n",
    "    print(\"Negative number\")"
   ]
  },
  {
   "cell_type": "code",
   "execution_count": 33,
   "metadata": {},
   "outputs": [
    {
     "name": "stdout",
     "output_type": "stream",
     "text": [
      "Your total order amount is:  1100\n",
      "You got 10% discount on your order for battery based toys\n",
      "You got 5% discount on your order for key based toys\n",
      "You got 10% discount on your order for electrical charging based toys\n",
      "Your total order amount is:  995.0\n"
     ]
    }
   ],
   "source": [
    "# 4. A toy vendor supplies three types of toys: Battery Based Toys, Key-basedToys, and Electrical Charging Based Toys. The vendor gives a discount of\n",
    "# 10% on orders for battery-based toys if the order is for more than Rs. 1000. On orders of more than Rs. 100 for key-based toys, a discount of 5% is\n",
    "# given, and a discount of 10% is given on orders for electrical charging based toys of value more than Rs. 500. Assume that the numeric codes 1,2 and\n",
    "# 3 are used for battery based toys, key-based toys, and electrical charging based toys respectively. Write a program that reads the product code and \n",
    "# the order amount and prints out the net amount that the customer is required to pay after the discount.\n",
    "\n",
    "order_amount_1 = int(input(\"Enter the order amount for product code 1: \"))\n",
    "order_amount_2 = int(input(\"Enter the order amount for product code 2: \"))\n",
    "order_amount_3 = int(input(\"Enter the order amount for product code 3: \"))\n",
    "# total_orders = {1: order_amount_1, 2: order_amount_2, 3: order_amount_3}\n",
    "sum = order_amount_1 + order_amount_2 + order_amount_3\n",
    "print(\"Your total order amount is: \", sum)\n",
    "if sum > 1000:\n",
    "    print(\"You got 10% discount on your order for battery based toys\")\n",
    "    order_amount_1 -= order_amount_1 * 0.1\n",
    "if sum > 100:\n",
    "    print(\"You got 5% discount on your order for key based toys\")\n",
    "    order_amount_2 -= order_amount_2 * 0.05\n",
    "if sum > 500:\n",
    "    print(\"You got 10% discount on your order for electrical charging based toys\")\n",
    "    order_amount_3 -= order_amount_3 * 0.1\n",
    "    \n",
    "sum = order_amount_1 + order_amount_2 + order_amount_3\n",
    "print(\"Your total order amount is: \", sum)"
   ]
  },
  {
   "cell_type": "code",
   "execution_count": 6,
   "metadata": {},
   "outputs": [
    {
     "name": "stdout",
     "output_type": "stream",
     "text": [
      "Total fare: 12000\n"
     ]
    }
   ],
   "source": [
    "# 5. A transport company charges the fare according to following table: \n",
    "#    Distance Charges\n",
    "#    1-50 8 Rs./Km\n",
    "#    51-100 10 Rs./Km\n",
    "#    > 100 12 Rs/Km\n",
    "\n",
    "dist_covered = int(input(\"Enter the distance covered: \"))\n",
    "if dist_covered <= 50:\n",
    "    fare = dist_covered * 8\n",
    "elif dist_covered <= 100:\n",
    "    fare = dist_covered * 10\n",
    "else:\n",
    "    fare = dist_covered * 12\n",
    "print(\"Total fare:\", fare)"
   ]
  },
  {
   "cell_type": "code",
   "execution_count": 7,
   "metadata": {},
   "outputs": [
    {
     "name": "stdout",
     "output_type": "stream",
     "text": [
      "091"
     ]
    }
   ],
   "source": [
    "# 6. Write a python program to reverse a number using a while loop.\n",
    "\n",
    "temp = int(input(\"Enter a number: \"))\n",
    "while temp > 0:\n",
    "    digit = temp % 10\n",
    "    print(digit, end=\"\")\n",
    "    temp = temp // 10"
   ]
  },
  {
   "cell_type": "code",
   "execution_count": 8,
   "metadata": {},
   "outputs": [
    {
     "name": "stdout",
     "output_type": "stream",
     "text": [
      "The number is not a palindrome!\n"
     ]
    }
   ],
   "source": [
    "# 7. Write a python program to check whether a number is palindrome or not?\n",
    "\n",
    "temp = int(input(\"Enter a number: \"))\n",
    "rev = 0\n",
    "while temp > 0:\n",
    "    digit = temp % 10\n",
    "    rev = rev * 10 + digit\n",
    "    temp = temp // 10\n",
    "\n",
    "if rev == temp:\n",
    "    print(\"The number is a palindrome!\")\n",
    "else:\n",
    "    print(\"The number is not a palindrome!\")"
   ]
  },
  {
   "cell_type": "code",
   "execution_count": 9,
   "metadata": {},
   "outputs": [
    {
     "name": "stdout",
     "output_type": "stream",
     "text": [
      "Factorial: 120\n"
     ]
    }
   ],
   "source": [
    "# 8. Write a python program finding the factorial of a given number using a while loop.\n",
    "\n",
    "temp = int(input(\"Enter a number: \"))\n",
    "factorial = 1\n",
    "while temp > 0:\n",
    "    factorial *= temp\n",
    "    temp -= 1\n",
    "print(\"Factorial:\", factorial)"
   ]
  },
  {
   "cell_type": "code",
   "execution_count": 11,
   "metadata": {},
   "outputs": [
    {
     "name": "stdout",
     "output_type": "stream",
     "text": [
      "Sum of all the numbers: 44\n"
     ]
    }
   ],
   "source": [
    "# 9. Accept numbers using input() function until the user enters 0. If user input 0 then break the while loop and display the sum of all the numbers.\n",
    "\n",
    "sum = 0\n",
    "while True:\n",
    "    temp = int(input(\"Enter a number: \"))\n",
    "    if temp == 0:\n",
    "        break\n",
    "    sum += temp\n",
    "print(\"Sum of all the numbers:\", sum)"
   ]
  },
  {
   "cell_type": "code",
   "execution_count": 12,
   "metadata": {},
   "outputs": [
    {
     "name": "stdout",
     "output_type": "stream",
     "text": [
      "1\n",
      "2\n",
      "3\n",
      "4\n",
      "5\n",
      "6\n",
      "7\n",
      "8\n",
      "9\n",
      "10\n"
     ]
    }
   ],
   "source": [
    "# 10. Print the first 10 natural numbers using for loop\n",
    "for i in range(1,11):\n",
    "    print(i)"
   ]
  },
  {
   "cell_type": "code",
   "execution_count": 18,
   "metadata": {},
   "outputs": [
    {
     "name": "stdout",
     "output_type": "stream",
     "text": [
      "The string is a palindrome.\n"
     ]
    }
   ],
   "source": [
    "# 11. Python program to check if the given string is a palindrome\n",
    "\n",
    "string = input(\"Enter a string: \")\n",
    "if string == string[::-1]:\n",
    "    print(\"The string is a palindrome.\")\n",
    "else:\n",
    "    print(\"The string is not a palindrome.\")"
   ]
  },
  {
   "cell_type": "code",
   "execution_count": 25,
   "metadata": {},
   "outputs": [
    {
     "name": "stdout",
     "output_type": "stream",
     "text": [
      "0 is an Armstrong number\n"
     ]
    }
   ],
   "source": [
    "# 12. Python program to check if a given number is an Armstrong number\n",
    "\n",
    "num = int(input(\"Enter a number: \"))\n",
    "temp = num\n",
    "sum = 0\n",
    "length = len(str(temp))\n",
    "while temp > 0:\n",
    "    digit = temp % 10\n",
    "    sum += digit ** length\n",
    "    temp //= 10\n",
    "if sum == num:\n",
    "        print(num, \"is an Armstrong number\")\n",
    "else:\n",
    "    print(num, \"is not an Armstrong number\")"
   ]
  },
  {
   "cell_type": "code",
   "execution_count": 30,
   "metadata": {},
   "outputs": [
    {
     "name": "stdout",
     "output_type": "stream",
     "text": [
      "0, 1, 1, 1, 2, 3, 5, 8, 13, 21, 34, "
     ]
    }
   ],
   "source": [
    "# 13. Python program to get the Fibonacci series between 0 to 50\n",
    "a = 0\n",
    "b = 1\n",
    "print(a, end=\", \")\n",
    "while b < 50:\n",
    "    print(b, end=\", \")\n",
    "    c = a+b\n",
    "    a = b\n",
    "    b = c    "
   ]
  },
  {
   "cell_type": "code",
   "execution_count": 31,
   "metadata": {},
   "outputs": [
    {
     "name": "stdout",
     "output_type": "stream",
     "text": [
      "Password is valid.\n"
     ]
    }
   ],
   "source": [
    "# 14. Python program to check the validity of password input by users\n",
    "\n",
    "password = input(\"Enter your password: \")\n",
    "if len(password) < 8:\n",
    "    print(\"Password is invalid. It should be at least 8 characters long.\")\n",
    "elif not any(char.isupper() for char in password):\n",
    "    print(\"Password is invalid. It should contain at least one uppercase letter.\")\n",
    "elif not any(char.islower() for char in password):\n",
    "    print(\"Password is invalid. It should contain at least one lowercase letter.\")\n",
    "elif not any(char.isdigit() for char in password):\n",
    "    print(\"Password is invalid. It should contain at least one digit.\")\n",
    "else:\n",
    "    print(\"Password is valid.\")"
   ]
  },
  {
   "cell_type": "code",
   "execution_count": null,
   "metadata": {},
   "outputs": [],
   "source": []
  }
 ],
 "metadata": {
  "kernelspec": {
   "display_name": "venv",
   "language": "python",
   "name": "python3"
  },
  "language_info": {
   "codemirror_mode": {
    "name": "ipython",
    "version": 3
   },
   "file_extension": ".py",
   "mimetype": "text/x-python",
   "name": "python",
   "nbconvert_exporter": "python",
   "pygments_lexer": "ipython3",
   "version": "3.12.4"
  }
 },
 "nbformat": 4,
 "nbformat_minor": 2
}
