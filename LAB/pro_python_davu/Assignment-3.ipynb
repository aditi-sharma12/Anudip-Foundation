{
 "cells": [
  {
   "cell_type": "code",
   "execution_count": 3,
   "metadata": {},
   "outputs": [
    {
     "name": "stdout",
     "output_type": "stream",
     "text": [
      "5.0\n"
     ]
    }
   ],
   "source": [
    "# 1. Declare a div() function with two parameters. Then call the function and pass two numbers and display their division.\n",
    "\n",
    "def div(num1,num2):\n",
    "    print(num1/num2)\n",
    "    \n",
    "num1 = int(input(\"Enter the first number: \"))\n",
    "num2 = int(input(\"Enter the second number: \"))\n",
    "div(num1,num2)"
   ]
  },
  {
   "cell_type": "code",
   "execution_count": 4,
   "metadata": {},
   "outputs": [
    {
     "name": "stdout",
     "output_type": "stream",
     "text": [
      "9\n"
     ]
    }
   ],
   "source": [
    "# 2. Declare a square() function with one parameter. Then call the function and pass one number and display the square of that number.\n",
    "\n",
    "def square(num):\n",
    "    return num ** 2\n",
    "\n",
    "num = int(input(\"Enter a number: \"))\n",
    "print(square(num))"
   ]
  },
  {
   "cell_type": "code",
   "execution_count": 7,
   "metadata": {},
   "outputs": [
    {
     "name": "stdout",
     "output_type": "stream",
     "text": [
      "Random numbers: [83, 55, 75, 86, 13]\n",
      "Maximum number: 86\n",
      "Minimum number: 13\n"
     ]
    }
   ],
   "source": [
    "# 3. Using max() and min() functions display the maximum and minimum of 5 random numbers.\n",
    "import random\n",
    "numbers = random.sample(range(1, 100), 5)\n",
    "max_number = max(numbers)\n",
    "min_number = min(numbers)\n",
    "print(\"Random numbers:\", numbers)\n",
    "print(\"Maximum number:\", max_number)\n",
    "print(\"Minimum number:\", min_number)"
   ]
  },
  {
   "cell_type": "code",
   "execution_count": null,
   "metadata": {},
   "outputs": [],
   "source": [
    "# 4. Accept a name from the user and display that in lower case using lower() function.\n",
    "\n",
    "name = input(\"Enter your name: \")\n",
    "print(name.lower())"
   ]
  },
  {
   "cell_type": "code",
   "execution_count": 9,
   "metadata": {},
   "outputs": [
    {
     "name": "stdout",
     "output_type": "stream",
     "text": [
      "{'To': 2, 'change': 2, 'the': 3, 'overall': 1, 'look': 2, 'of': 1, 'your': 1, 'document.': 1, 'available': 1, 'in': 1, 'gallery': 1}\n"
     ]
    }
   ],
   "source": [
    "# 1. Write a Python program to count the occurrences of each word in a given sentence\n",
    "string = 'To change the overall look of your document. To change the look available in the gallery'\n",
    "count = {}  \n",
    "words = string.split()\n",
    "for word in words:\n",
    "    if word in count:\n",
    "        count[word] += 1\n",
    "    else:\n",
    "        count[word] = 1\n",
    "print(count)"
   ]
  },
  {
   "cell_type": "code",
   "execution_count": 11,
   "metadata": {},
   "outputs": [
    {
     "name": "stdout",
     "output_type": "stream",
     "text": [
      "Best Deeptech Python Training\n"
     ]
    }
   ],
   "source": [
    "# 2. Write a Python program to remove a newline in Python\n",
    "\n",
    "String = \"\\nBest \\nDeeptech \\nPython \\nTraining\\n\"\n",
    "newString = String.replace(\"\\n\", \"\")\n",
    "print(newString)"
   ]
  },
  {
   "cell_type": "code",
   "execution_count": 12,
   "metadata": {},
   "outputs": [
    {
     "name": "stdout",
     "output_type": "stream",
     "text": [
      "The original string is:  Deeptech Python Training\n",
      "The reversed string is:  Training Python Deeptech\n"
     ]
    }
   ],
   "source": [
    "# 3. Write a Python program to reverse words in a string.\n",
    "\n",
    "String = \"Deeptech Python Training\"\n",
    "print(\"The original string is: \", String)\n",
    "# reversing words in a given string\n",
    "rev_String = ' '.join(reversed(String.split()))\n",
    "print(\"The reversed string is: \", rev_String)"
   ]
  },
  {
   "cell_type": "code",
   "execution_count": 16,
   "metadata": {},
   "outputs": [
    {
     "name": "stdout",
     "output_type": "stream",
     "text": [
      "e\n",
      "o\n",
      "e\n",
      "o\n",
      "o\n",
      "a\n",
      "i\n",
      "i\n",
      "Total vowels: 8\n"
     ]
    }
   ],
   "source": [
    "# 4. Write a Python program to count and display the vowels of a given text.\n",
    "\n",
    "String = \"Welcome to python Training\"\n",
    "vowels = \"aeiouAEIOU\"\n",
    "count = 0\n",
    "for char in String:\n",
    "    if char in vowels:\n",
    "        count += 1\n",
    "        print(char)\n",
    "print(\"Total vowels:\", count)"
   ]
  },
  {
   "cell_type": "code",
   "execution_count": 18,
   "metadata": {},
   "outputs": [
    {
     "name": "stdout",
     "output_type": "stream",
     "text": [
      "Chars = 8 Digits = 3 Symbols = 4\n"
     ]
    }
   ],
   "source": [
    "# 1. Write a Python program to Count all letters, digits, and special symbols from the given string.\n",
    "#    Input = “P@#yn26at^&i5ve”\n",
    "#    Output: Chars = 8 Digits = 2 Symbol = 3\n",
    "\n",
    "Input = \"P@#yn26at^&i5ve\"\n",
    "chars = 0\n",
    "digits = 0\n",
    "symbols = 0\n",
    "for i in Input:\n",
    "    if i.isalpha():\n",
    "        chars += 1\n",
    "    elif i.isdigit():\n",
    "        digits += 1\n",
    "    else:\n",
    "        symbols += 1\n",
    "print(\"Chars =\", chars, \"Digits =\", digits, \"Symbols =\", symbols)"
   ]
  },
  {
   "cell_type": "code",
   "execution_count": 28,
   "metadata": {},
   "outputs": [
    {
     "name": "stdout",
     "output_type": "stream",
     "text": [
      " String and Function\n"
     ]
    }
   ],
   "source": [
    "# 2. Write a Python program to remove duplicate characters of a given string.\n",
    "#    Input = “String and String Function”\n",
    "#    Output: String and Function\n",
    "\n",
    "Input = \"String and String Function\"\n",
    "Input_list = Input.split()\n",
    "output = \"\"\n",
    "for i in Input_list:\n",
    "    if i not in output:\n",
    "        output += f\" {i}\"\n",
    "print(output)   "
   ]
  },
  {
   "cell_type": "code",
   "execution_count": 29,
   "metadata": {},
   "outputs": [
    {
     "name": "stdout",
     "output_type": "stream",
     "text": [
      "UpperCase :  5\n",
      "LowerCase :  18\n",
      "NumberCase :  5\n",
      "SpecialCase :  11\n"
     ]
    }
   ],
   "source": [
    "# 3. Write a Python program to count Uppercase, Lowercase, special character and numeric values in a given string\n",
    "#    Input = “Hell0 W0rld ! 123 * # welcome to pYtHoN”\n",
    "#    Output:\n",
    "#    UpperCase : 5\n",
    "#    LowerCase : 18\n",
    "#    NumberCase : 5\n",
    "#    SpecialCase : 11\n",
    "\n",
    "Input = \"Hell0 W0rld ! 123 * # welcome to pYtHoN\"\n",
    "upper = 0\n",
    "lower = 0\n",
    "number = 0\n",
    "special = 0\n",
    "for i in Input:\n",
    "    if i.isupper():\n",
    "        upper += 1\n",
    "    elif i.islower():\n",
    "        lower += 1\n",
    "    elif i.isnumeric():\n",
    "        number += 1\n",
    "    else:\n",
    "        special += 1\n",
    "print(\"UpperCase : \", upper)\n",
    "print(\"LowerCase : \", lower)\n",
    "print(\"NumberCase : \", number)\n",
    "print(\"SpecialCase : \", special)\n"
   ]
  },
  {
   "cell_type": "code",
   "execution_count": 30,
   "metadata": {},
   "outputs": [
    {
     "name": "stdout",
     "output_type": "stream",
     "text": [
      "Total vowels are: 8\n"
     ]
    }
   ],
   "source": [
    "# 4. Write a Python Count vowels in a string\n",
    "#    input= “Welcome to Python Assignment”\n",
    "#    Output: Total vowels are: 8\n",
    "\n",
    "input= \"Welcome to Python Assignment\"\n",
    "vowels = \"aeiouAEIOU\"   \n",
    "count = 0\n",
    "for char in input:\n",
    "    if char in vowels:\n",
    "        count += 1\n",
    "print(\"Total vowels are:\", count)\n"
   ]
  }
 ],
 "metadata": {
  "kernelspec": {
   "display_name": "venv",
   "language": "python",
   "name": "python3"
  },
  "language_info": {
   "codemirror_mode": {
    "name": "ipython",
    "version": 3
   },
   "file_extension": ".py",
   "mimetype": "text/x-python",
   "name": "python",
   "nbconvert_exporter": "python",
   "pygments_lexer": "ipython3",
   "version": "3.12.4"
  }
 },
 "nbformat": 4,
 "nbformat_minor": 2
}
