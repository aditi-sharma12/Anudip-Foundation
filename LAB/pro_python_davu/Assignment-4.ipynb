{
 "cells": [
  {
   "cell_type": "code",
   "execution_count": 1,
   "metadata": {},
   "outputs": [
    {
     "name": "stdout",
     "output_type": "stream",
     "text": [
      "45\n"
     ]
    }
   ],
   "source": [
    "# 1. Write a Python program to sum all the items in a list.\n",
    "\n",
    "number = [1, 2, 3, 4, 5, 6, 7, 8, 9]\n",
    "sum = 0\n",
    "for num in number:\n",
    "    sum += num\n",
    "print(sum)"
   ]
  },
  {
   "cell_type": "code",
   "execution_count": 3,
   "metadata": {},
   "outputs": [
    {
     "name": "stdout",
     "output_type": "stream",
     "text": [
      "Largest Number : 35 \n",
      "Smallest Number : 9\n"
     ]
    }
   ],
   "source": [
    "# 2. Write a Python program to get the largest and smallest number from a list without built-in functions.\n",
    "\n",
    "list = [10, 20, 12, 15, 30, 35, 9]\n",
    "smallest = list[0]\n",
    "largest  = list[0]\n",
    "for num in range(len(list)):\n",
    "    if list[num] < smallest:\n",
    "        smallest = list[num]\n",
    "    if list[num] > largest:\n",
    "        largest = list[num]\n",
    "        \n",
    "print(f\"Largest Number : {largest} \\nSmallest Number : {smallest}\")"
   ]
  },
  {
   "cell_type": "code",
   "execution_count": 4,
   "metadata": {},
   "outputs": [
    {
     "name": "stdout",
     "output_type": "stream",
     "text": [
      "File not found\n"
     ]
    }
   ],
   "source": [
    "# 3. Write a Python program to find duplicate values from a list and display those.\n",
    "\n",
    "arr = [10, 20, 30, 10, 40, 20, 10, 50, 60, 40, 70, 80, 90]\n",
    "duplicate = []\n",
    "for index in range(len(arr)):\n",
    "    temp = index + 1\n",
    "    for j in range(temp, len(arr)):\n",
    "        if arr[index] == arr[j] and arr[j] not in duplicate:\n",
    "            duplicate.append(arr[index])  \n",
    "print(f'Duplicate Values: {duplicate}')"
   ]
  },
  {
   "cell_type": "code",
   "execution_count": 5,
   "metadata": {},
   "outputs": [
    {
     "name": "stdout",
     "output_type": "stream",
     "text": [
      "Splitted the said list into two parts : ([1, 1, 2][3, 4, 4, 5, 1])\n"
     ]
    }
   ],
   "source": [
    "# 4. Write a Python program to split a given list into two parts where the length of the first part of the list is given.\n",
    "# Original list: [1, 1, 2, 3, 4, 4, 5, 1]\n",
    "# Length of the first part of the list: 3\n",
    "# Splitted the said list into two parts: ([1, 1, 2], [3, 4, 4, 5, 1])\n",
    "\n",
    "Original_list = [1, 1, 2, 3, 4, 4, 5, 1]\n",
    "Length_of_the_first_part_of_the_list =  3\n",
    "sub_list_1 = Original_list[:Length_of_the_first_part_of_the_list]\n",
    "sub_list_2 = Original_list[Length_of_the_first_part_of_the_list:]\n",
    "print(f'Splitted the said list into two parts : ({sub_list_1}{sub_list_2})')"
   ]
  },
  {
   "cell_type": "code",
   "execution_count": 16,
   "metadata": {},
   "outputs": [
    {
     "name": "stdout",
     "output_type": "stream",
     "text": [
      "black\n",
      "white\n",
      "green\n",
      "red\n"
     ]
    }
   ],
   "source": [
    "# 5. Write a Python program to traverse a given list in reverse order, and print the elements with the original index.\n",
    "# Original list: ['red', 'green', 'white', 'black']\n",
    "# Traverse the said list in reverse order:\n",
    "# black\n",
    "# white\n",
    "# green\n",
    "# red\n",
    "\n",
    "Original_list = ['red', 'green', 'white', 'black']\n",
    "for index in range(len(Original_list) - 1, -1, -1):\n",
    "    print(Original_list[index])"
   ]
  },
  {
   "cell_type": "markdown",
   "metadata": {},
   "source": [
    "#### Assignment:"
   ]
  },
  {
   "cell_type": "code",
   "execution_count": 19,
   "metadata": {},
   "outputs": [
    {
     "name": "stdout",
     "output_type": "stream",
     "text": [
      "6.2\n"
     ]
    }
   ],
   "source": [
    "# 1. Write a Python program and calculate the mean of the below dictionary.\n",
    "#    test_dict = {\"A\" : 6, \"B\" : 9, \"C\" : 5, \"D\" : 7, \"E\" : 4}\n",
    "#    Output: 6.2\n",
    "\n",
    "test_dict = {\"A\" : 6, \"B\" : 9, \"C\" : 5, \"D\" : 7, \"E\" : 4}\n",
    "sum = 0\n",
    "length = len(test_dict)\n",
    "for value in test_dict.values():\n",
    "   sum += value\n",
    "mean = sum / length\n",
    "print(mean) "
   ]
  },
  {
   "cell_type": "code",
   "execution_count": 21,
   "metadata": {},
   "outputs": [
    {
     "name": "stdout",
     "output_type": "stream",
     "text": [
      "{1: 10, 2: 20, 3: 30, 4: 40, 5: 50, 6: 60}\n"
     ]
    }
   ],
   "source": [
    "# 2.Write a Python script to concatenate the following dictionaries to create a new one.\n",
    "# Sample Dictionary :\n",
    "# dic1={1:10, 2:20}\n",
    "# dic2={3:30, 4:40}\n",
    "# dic3={5:50,6:60}\n",
    "# Expected Result : {1: 10, 2: 20, 3: 30, 4: 40, 5: 50, 6: 60}\n",
    "\n",
    "dic1={1:10, 2:20}\n",
    "dic2={3:30, 4:40}\n",
    "dic3={5:50, 6:60}\n",
    "dic = {**dic1, **dic2, **dic3} \n",
    "print(dic)"
   ]
  },
  {
   "cell_type": "code",
   "execution_count": 23,
   "metadata": {},
   "outputs": [
    {
     "name": "stdout",
     "output_type": "stream",
     "text": [
      "key    value\n",
      "1      10\n",
      "2      20\n",
      "3      30\n",
      "4      40\n",
      "5      50\n",
      "6      60\n"
     ]
    }
   ],
   "source": [
    "# 3.Write a Python program to get the key, value and item in a dictionary.\n",
    "#   input:dict_num = {1: 10, 2: 20, 3: 30, 4: 40, 5: 50, 6: 60}\n",
    "#   Output:\n",
    "#   Key \tValue\n",
    "#   1\t10\n",
    "#   2\t20\n",
    "#   3\t30\n",
    "#   4\t40\n",
    "#   5\t50\n",
    "#   6\t60\n",
    "dict_num = {1: 10, 2: 20, 3: 30, 4: 40, 5: 50, 6: 60}\n",
    "print('key    value')\n",
    "for key, value in dict_num.items():\n",
    "    print(f'{key}      {value}')\n"
   ]
  },
  {
   "cell_type": "code",
   "execution_count": 27,
   "metadata": {},
   "outputs": [
    {
     "name": "stdout",
     "output_type": "stream",
     "text": [
      "dict with empty items Dropped : {1: 10, 2: 20, 4: 40, 6: 60}\n"
     ]
    }
   ],
   "source": [
    "# 4.Write a Python program to get the key, value and item in a dictionary.\n",
    "# Input: input_dict = {1: 10, 2: 20, 3:None, 4: 40, 5: None, 6: 60}\n",
    "# Output: dict with empty items Dropped : {1:10,2:40,4:40,6:60}\n",
    "\n",
    "input_dict = {1: 10, 2: 20, 3:None, 4: 40, 5: None, 6: 60}\n",
    "output_dict = {}\n",
    "for key, value in input_dict.items():\n",
    "    if value == None:\n",
    "        continue\n",
    "    else:\n",
    "        output_dict[key] = value\n",
    "print(f'dict with empty items Dropped : {output_dict}')"
   ]
  },
  {
   "cell_type": "code",
   "execution_count": 28,
   "metadata": {},
   "outputs": [
    {
     "name": "stdout",
     "output_type": "stream",
     "text": [
      "3\n"
     ]
    }
   ],
   "source": [
    "# 1. Write a Python program to find the number of times 4 appears in the tuple.\n",
    "# Input: tuplex = (2, 4, 5, 6, 2, 3, 4, 4, 7 )\n",
    "# Output: 3\n",
    "tuplex = (2, 4, 5, 6, 2, 3, 4, 4, 7)\n",
    "count = 0\n",
    "for i in tuplex:\n",
    "    if i == 4:\n",
    "        count += 1\n",
    "print(count)"
   ]
  },
  {
   "cell_type": "code",
   "execution_count": 29,
   "metadata": {},
   "outputs": [
    {
     "name": "stdout",
     "output_type": "stream",
     "text": [
      "(5, 10, 7, 4, 15, 3)\n"
     ]
    }
   ],
   "source": [
    "# 2.Write a Python program to convert a list to a tuple.\n",
    "# Input: listx = [5, 10, 7, 4, 15, 3]\n",
    "# Output: (5, 10, 7, 4, 15, 3)\n",
    "\n",
    "listx = [5, 10, 7, 4, 15, 3]\n",
    "tupx = tuple(listx)\n",
    "print(tupx)"
   ]
  },
  {
   "cell_type": "code",
   "execution_count": 32,
   "metadata": {},
   "outputs": [
    {
     "name": "stdout",
     "output_type": "stream",
     "text": [
      "sum of tuple is : 21\n"
     ]
    }
   ],
   "source": [
    "# 3. Write a Python program to calculate the sum of the numbers in a given tuple.\n",
    "# Input: tuples_list = [(1, 2), (3, 4), (5, 6)]\n",
    "# Output: sum of tuple is : 21 \n",
    "\n",
    "tuples_list = [(1, 2), (3, 4), (5, 6)]\n",
    "sum = 0\n",
    "for ele in tuples_list:\n",
    "    sum += ele[0] + ele[1]\n",
    "print(f\"sum of tuple is : {sum}\")"
   ]
  },
  {
   "cell_type": "code",
   "execution_count": 34,
   "metadata": {},
   "outputs": [
    {
     "name": "stdout",
     "output_type": "stream",
     "text": [
      "\n",
      "Name : John Doe\n",
      "Employee ID : 101\n",
      "Department : Human Resources\n",
      "Salary : 60000\n",
      "\n",
      "\n",
      "Name : Alice Smith\n",
      "Employee ID : 102\n",
      "Department : Marketing\n",
      "Salary : 55000\n",
      "\n",
      "\n",
      "Name : Bob Johnson\n",
      "Employee ID : 103\n",
      "Department : Engineering\n",
      "Salary : 75000\n",
      "\n"
     ]
    }
   ],
   "source": [
    "# 4.Write a python program and iterate the given tuples\n",
    "#   Input:\n",
    "#   employee1 = (\"John Doe\", 101, \"Human Resources\", 60000)\n",
    "#   employee2 = (\"Alice Smith\", 102, \"Marketing\", 55000)\n",
    "#   employee3 = (\"Bob Johnson\", 103, \"Engineering\", 75000)\n",
    "#   Output:\n",
    "#   Employee Records :\n",
    "#   Name : John Doe\n",
    "#   Employee ID : 101\n",
    "#   Department : Human Resources\n",
    "#   Salary\t:  60000\n",
    "\n",
    "#   Name : Alice Smith\n",
    "#   Employee ID : 102\n",
    "#   Department :Marketing\n",
    "#   Salary\t:  55000\n",
    "\n",
    "#   Name : Bob Johnson\n",
    "#   Employee ID : 103\n",
    "#   Department : Engineering\n",
    "#   Salary\t:  75000\n",
    "\n",
    "employee1 = (\"John Doe\", 101, \"Human Resources\", 60000)\n",
    "employee2 = (\"Alice Smith\", 102, \"Marketing\", 55000)\n",
    "employee3 = (\"Bob Johnson\", 103, \"Engineering\", 75000)\n",
    "employee = [employee1, employee2, employee3]\n",
    "for tup in employee:\n",
    "    name, emp_id, department, salary = tup\n",
    "    print(f\"\\nName : {name}\")\n",
    "    print(f\"Employee ID : {emp_id}\")\n",
    "    print(f\"Department : {department}\")\n",
    "    print(f\"Salary : {salary}\\n\")\n"
   ]
  },
  {
   "cell_type": "code",
   "execution_count": 35,
   "metadata": {},
   "outputs": [
    {
     "name": "stdout",
     "output_type": "stream",
     "text": [
      "Unique items from both sets: {70, 40, 10, 50, 20, 60, 30}\n"
     ]
    }
   ],
   "source": [
    "# 1. Write a Python program to Get Only unique items from two sets.\n",
    "# Input:\n",
    "# set1 = {10, 20, 30, 40, 50}\n",
    "# set2 = {30, 40, 50, 60, 70}\n",
    "# Output: {70, 40, 10, 50, 20, 60, 30}\n",
    "\n",
    "set1 = {10, 20, 30, 40, 50}\n",
    "set2 = {30, 40, 50, 60, 70}\n",
    "unique_items = set1 | set2\n",
    "print(\"Unique items from both sets:\", unique_items)"
   ]
  },
  {
   "cell_type": "code",
   "execution_count": 38,
   "metadata": {},
   "outputs": [
    {
     "name": "stdout",
     "output_type": "stream",
     "text": [
      "{10, 20, 70, 60}\n"
     ]
    }
   ],
   "source": [
    "# 2. Write a Python program to Return a set of elements present in Set A or B, but not both.\n",
    "# Input:\n",
    "# set1 = {10, 20, 30, 40, 50}\n",
    "# set2 = {30, 40, 50, 60, 70}\n",
    "# Output: {20, 70, 10, 60}\n",
    "set1 = {10, 20, 30, 40, 50}\n",
    "set2 = {30, 40, 50, 60, 70}\n",
    "unique_items = set1.union(set2) - set1.intersection(set2)\n",
    "print(unique_items)"
   ]
  },
  {
   "cell_type": "code",
   "execution_count": 39,
   "metadata": {},
   "outputs": [
    {
     "name": "stdout",
     "output_type": "stream",
     "text": [
      "{10}\n"
     ]
    }
   ],
   "source": [
    "# 3. Write a Python program to Check if two sets have any elements in common. If yes, display the common elements.\n",
    "# Input:\n",
    "# set1 = {10, 20, 30, 40, 50}\n",
    "# set2 = {60, 70, 80, 90, 10}\n",
    "# Output: {10}\n",
    "\n",
    "set1 = {10, 20, 30, 40, 50}\n",
    "set2 = {60, 70, 80, 90, 10}\n",
    "unique_items = set1.intersection(set2)\n",
    "print(unique_items)"
   ]
  },
  {
   "cell_type": "code",
   "execution_count": 40,
   "metadata": {},
   "outputs": [
    {
     "name": "stdout",
     "output_type": "stream",
     "text": [
      "Items in set1 that are common to both set1 and set2: {40, 50, 30}\n"
     ]
    }
   ],
   "source": [
    "# 4. Write a Python program to Remove items from set1 that are not common to both set1 and set2.\n",
    "# Input:\n",
    "# set1 = {10, 20, 30, 40, 50}\n",
    "# set2 = {30, 40, 50, 60, 70}\n",
    "# Output: {40, 50, 30}\n",
    "\n",
    "set1 = {10, 20, 30, 40, 50}\n",
    "set2 = {30, 40, 50, 60, 70}\n",
    "common_items = set1.intersection(set2)\n",
    "set1 = common_items\n",
    "print(\"Items in set1 that are common to both set1 and set2:\", set1)\n"
   ]
  }
 ],
 "metadata": {
  "kernelspec": {
   "display_name": "venv",
   "language": "python",
   "name": "python3"
  },
  "language_info": {
   "codemirror_mode": {
    "name": "ipython",
    "version": 3
   },
   "file_extension": ".py",
   "mimetype": "text/x-python",
   "name": "python",
   "nbconvert_exporter": "python",
   "pygments_lexer": "ipython3",
   "version": "3.12.4"
  }
 },
 "nbformat": 4,
 "nbformat_minor": 2
}
