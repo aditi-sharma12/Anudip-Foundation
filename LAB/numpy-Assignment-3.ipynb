{
 "cells": [
  {
   "cell_type": "markdown",
   "metadata": {},
   "source": [
    "#### 1. Convert the below list into numpy array then display the array <hr/>\n",
    "Input : `my_list[1, 2, 3, 4, 5]`<br/>\n",
    "Output: `Numpy_array[1 2 3 4 5]`"
   ]
  },
  {
   "cell_type": "code",
   "execution_count": 7,
   "metadata": {},
   "outputs": [
    {
     "name": "stdout",
     "output_type": "stream",
     "text": [
      "[1 2 3 4 5]\n"
     ]
    }
   ],
   "source": [
    "import numpy as np\n",
    "my_list = [1,2,3,4,5]\n",
    "Numpy_array = np.array(my_list)\n",
    "print(Numpy_array)"
   ]
  },
  {
   "cell_type": "markdown",
   "metadata": {},
   "source": [
    "#### 2. Convert the below list into a numpy array then display the array then display the first and last index and then multiply each element by 2 and display the result.<hr/>\n",
    "\n",
    "Input : `my_list[1, 2, 3, 4, 5]`<br/>\n",
    "Output : <br/>\n",
    "`First Element : 1`<br/>\n",
    "`Last Element : 5`<br/>\n",
    "`Array after doubling each element : [2 4 6 8 10]`"
   ]
  },
  {
   "cell_type": "code",
   "execution_count": 8,
   "metadata": {},
   "outputs": [
    {
     "name": "stdout",
     "output_type": "stream",
     "text": [
      "First Element :  1\n",
      "Last Element :  5\n",
      "After doublingeach element :  [ 2  4  6  8 10]\n"
     ]
    }
   ],
   "source": [
    "import numpy as np\n",
    "my_list = [1,2,3,4,5]\n",
    "numpy_array = np.array(my_list)\n",
    "\n",
    "print(\"First Element : \", numpy_array[0])\n",
    "print(\"Last Element : \", numpy_array[-1])\n",
    "print(\"After doublingeach element : \", numpy_array*2)"
   ]
  },
  {
   "cell_type": "markdown",
   "metadata": {},
   "source": [
    "## Lab3 : Working with NUmPy Arrays\n",
    "\n",
    "#### 1. Write a NumPy program to create an array of 10 zeros, 10 ones, and 10 fives.\n",
    "\n",
    "Sample Output: <br/>\n",
    "`An array of 10 zeros:[0. 0. 0. 0. 0. 0. 0. 0. 0. 0.]`<br/>\n",
    "`An array of 10 ones: [1. 1. 1. 1. 1. 1. 1. 1. 1. 1.]`<br/>\n",
    "`An array of 10 fives: [5. 5. 5. 5. 5. 5. 5. 5. 5. 5.]`\n"
   ]
  },
  {
   "cell_type": "code",
   "execution_count": 9,
   "metadata": {},
   "outputs": [
    {
     "name": "stdout",
     "output_type": "stream",
     "text": [
      "An array of 10 zeros :  [0. 0. 0. 0. 0. 0. 0. 0. 0. 0.]\n",
      "An array of 10 ones :  [1. 1. 1. 1. 1. 1. 1. 1. 1. 1.]\n",
      "An array of 10 fives :  [5. 5. 5. 5. 5. 5. 5. 5. 5. 5.]\n"
     ]
    }
   ],
   "source": [
    "import numpy as np\n",
    "\n",
    "zero_array = np.zeros(10)\n",
    "ones_array = np.ones(10)\n",
    "fives_array = np.zeros(10) + 5\n",
    "\n",
    "print (\"An array of 10 zeros : \", zero_array)\n",
    "print (\"An array of 10 ones : \", ones_array)\n",
    "print (\"An array of 10 fives : \", fives_array)"
   ]
  },
  {
   "cell_type": "markdown",
   "metadata": {},
   "source": [
    "#### 2. Write a NumPy program to create a 3x3 matrix with values ranging from 2 to 10.\n",
    "Sample Output <br/>\n",
    "[<br/>\n",
    "    [ 2  3  4] <br/>\n",
    "    [ 5  6  7] <br/>\n",
    "    [ 8  9 10] <br/>\n",
    "]"
   ]
  },
  {
   "cell_type": "code",
   "execution_count": 10,
   "metadata": {},
   "outputs": [
    {
     "name": "stdout",
     "output_type": "stream",
     "text": [
      "[[ 2  3  4]\n",
      " [ 5  6  7]\n",
      " [ 8  9 10]]\n"
     ]
    }
   ],
   "source": [
    "import numpy as np\n",
    "\n",
    "matrix = np.arange(2, 11).reshape(3, 3)\n",
    "print(matrix)"
   ]
  }
 ],
 "metadata": {
  "kernelspec": {
   "display_name": "venv",
   "language": "python",
   "name": "python3"
  },
  "language_info": {
   "codemirror_mode": {
    "name": "ipython",
    "version": 3
   },
   "file_extension": ".py",
   "mimetype": "text/x-python",
   "name": "python",
   "nbconvert_exporter": "python",
   "pygments_lexer": "ipython3",
   "version": "3.12.4"
  }
 },
 "nbformat": 4,
 "nbformat_minor": 2
}
