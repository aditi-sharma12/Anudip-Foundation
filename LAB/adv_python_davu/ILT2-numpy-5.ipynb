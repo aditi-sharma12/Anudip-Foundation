{
 "cells": [
  {
   "cell_type": "markdown",
   "metadata": {},
   "source": [
    "#### 1. Suppose you have a dataset containing daily temperature readings for a city, and you want to identify days with extreme temperature conditions. Find days where the temperature either exceeded 35 degrees Celsius (hot day) or dropped below 5 degrees Celsius (cold day).<hr/>\n",
    "Input:<br/>\n",
    "`temperatures = np.array([32.5, 34.2, 36.8, 29.3, 31.0, 38.7, 23.1, 18.5, 22.8, 37.2])<br/>`\n",
    "Output:<br/>\n",
    "Hot days:<br/>\n",
    "`days           tempreatures`<br/>\n",
    "3                   36.8<br/>\n",
    "6                   38.7<br/>\n",
    "7                   37.2<br/>\n",
    "Cold days:<br/>\n",
    "`days           tempreatures`<br/>\n",
    "11                    4.0<br/>\n",
    "14                   -4.0<br/>\n",
    "15                   12.0<br/>"
   ]
  },
  {
   "cell_type": "code",
   "execution_count": null,
   "metadata": {},
   "outputs": [],
   "source": [
    "import numpy as np\n",
    "temperatures = np.array([32.5, 34.2, 36.8, 29.3, 31.0, 38.7, 23.1, 18.5, 22.8, 37.2])\n",
    "truth_table1 = temperatures > 35\n",
    "truth_table2 = temperatures < 5\n",
    "print(\"Hot days\")\n",
    "for i in range(len(temperatures)):\n",
    "    if truth_table1[i] == True:\n",
    "        print(i,\"       \",temperatures[i])\n",
    "print(\"Cold days\")\n",
    "for i in range(len(temperatures)):\n",
    "    if truth_table2[i] == True:\n",
    "        print(i,\"       \",temperatures[i])"
   ]
  },
  {
   "cell_type": "markdown",
   "metadata": {},
   "source": [
    "#### 2. Suppose you have a dataset containing monthly sales data for a company, and you want to split this data into quarterly reports for analysis and reporting purposes.<hr/>\n",
    "Input:<br/>\n",
    "`monthly_sales = np.array([120, 135, 148, 165, 180, 155, 168, 190, 205, 198, 210, 225])`<br/>\n",
    "\n",
    "Output:<br/>\n",
    "`Quater 1 Sales (in thousands of dollars): [120, 135, 148]`<br/>\n",
    "`Quater 2 Sales (in thousands of dollars): [165 180 205]`  <br/>\n",
    "`Quater 3 Sales (in thousands of dollars): [168, 190, 205]`<br/>\n",
    "`Quater 4 Sales (in thousands of dollars): [198, 210, 225]`"
   ]
  },
  {
   "cell_type": "code",
   "execution_count": null,
   "metadata": {},
   "outputs": [],
   "source": [
    "import numpy as np\n",
    "monthly_sales = np.array([120, 135, 148, 165, 180, 155, 168, 190, 205, 198, 210, 225])\n",
    "quaterly_sales = np.split(monthly_sales, 4)\n",
    "# print(quaterly_sales)\n",
    "for i in range(len(quaterly_sales)):\n",
    "    print(f\"Quater {i + 1} Sales (in thousands of dollars): {quaterly_sales[i]}\")"
   ]
  },
  {
   "cell_type": "markdown",
   "metadata": {},
   "source": [
    "#### 3. Suppose you have a dataset containing customer data, and you want to split this data into two groups: one group for customers who made a purchase in the last 30 days and another group for customers who haven't made a purchase in the last 30 days.<hr/>\n",
    "Input:<br/>\n",
    "`customer_ids = np.array([101, 102, 103, 104, 105, 106, 107, 108, 109, 110])`<br/>\n",
    "`last_purchase_days_ago = np.array([5, 15, 20, 25, 30, 35, 40, 45, 50, 55])`<br/>\n",
    "Output:<br/>\n",
    "Active customers(last purchase <= 30 days ago): `array([101, 102, 103, 104, 105])`<br/>\n",
    "Inactive customers(last purchase > 30 days ago): `array([101, 102, 103, 104, 105])`<br/>"
   ]
  },
  {
   "cell_type": "code",
   "execution_count": null,
   "metadata": {},
   "outputs": [],
   "source": [
    "import numpy as np\n",
    "customer_ids = np.array([101, 102, 103, 104, 105, 106, 107, 108, 109, 110])\n",
    "last_purchase_days_ago = np.array([5, 15, 20, 25, 30, 35, 40, 45, 50, 55])\n",
    "\n",
    "active_list = last_purchase_days_ago <= 30\n",
    "inactive_list = last_purchase_days_ago > 30\n",
    "\n",
    "print(f'Active customers(last purchase <= 30 days ago): {customer_ids[active_list]}')\n",
    "print(f'Inactive customers(last purchase > 30 days ago): {customer_ids[inactive_list]}')"
   ]
  },
  {
   "cell_type": "markdown",
   "metadata": {},
   "source": [
    "#### 4.Suppose you have two sets of employee data—one containing information about full-time employees and another containing information about part-time employees. You want to combine this data to create a comprehensive employee dataset for HR analysis.<hr/>\n",
    "Input:<br/>\n",
    "*Employee data for full-time employees*<br/>\n",
    "`full_time_employees = np.array([`<br/>\n",
    "`[101, 'John Doe', 'Full-Time', 55000],`<br/>\n",
    "`[102, 'Jane Smith', 'Full-Time', 60000],`<br/>\n",
    "`[103, 'Mike Johnson', 'Full-Time', 52000]`<br/>\n",
    "`])`<br/>\n",
    "*Employee data for part-time employees*<br/>\n",
    "`part_time_employees = np.array([`<br/>\n",
    "`    [201, 'Alice Brown', 'Part-Time', 25000],`<br/>\n",
    "`    [202, 'Bob Wilson', 'Part-Time', 28000],`<br/>\n",
    "`    [203, 'Emily Davis', 'Part-Time', 22000]`<br/>\n",
    "`])`<br/>\n",
    "Output:<br/>\n",
    "*combined Employee data:*<br/>\n",
    "`Employee ID : 101, Name : John Doe     , Position : Full-Time, Salary : 55000`<br/>\n",
    "`Employee ID : 102, Name : Jane Smith   , Position : Full-Time, Salary : 60000`<br/>\n",
    "`Employee ID : 103, Name : Mike Johnson , Position : Full-Time, Salary : 52000`<br/>\n",
    "`Employee ID : 201, Name : Alice Brown  , Position : Part-Time, Salary : 25000`<br/>\n",
    "`Employee ID : 202, Name : bob wilson   , Position : Part-Time, Salary : 28000`<br/>\n",
    "`Employee ID : 203, Name : Emily Davis  , Position : Part-Time, Salary : 22000`"
   ]
  },
  {
   "cell_type": "code",
   "execution_count": null,
   "metadata": {},
   "outputs": [],
   "source": [
    "import numpy as np\n",
    "\n",
    "# Employee data for full-time employees\n",
    "full_time_employees = np.array([\n",
    "                                [101, 'John Doe', 'Full-Time', 55000],\n",
    "                                [102, 'Jane Smith', 'Full-Time', 60000],\n",
    "                                [103, 'Mike Johnson', 'Full-Time', 52000]\n",
    "                               ])\n",
    "# Employee data for part-time employees\n",
    "part_time_employees = np.array([\n",
    "                                [201, 'Alice Brown', 'Part-Time', 25000],\n",
    "                                [202, 'Bob Wilson', 'Part-Time', 28000],\n",
    "                                [203, 'Emily Davis', 'Part-Time', 22000]\n",
    "                               ])\n",
    "\n",
    "combined_employees = np.concatenate((full_time_employees, part_time_employees), axis=0)\n",
    "\n",
    "print('combined Employee data:\\n')\n",
    "for i in range(len(combined_employees)):\n",
    "    print(f\"Employee ID : {combined_employees[i][0]}, Name : {combined_employees[i][1]}, Position : {combined_employees[i][2]}, Salary : {combined_employees[i][3]}\")\n"
   ]
  },
  {
   "cell_type": "markdown",
   "metadata": {},
   "source": [
    "# *Assignment:*"
   ]
  },
  {
   "cell_type": "markdown",
   "metadata": {},
   "source": [
    "#### 1. How to find the mean of every NumPy array in the given list?<hr/>\n",
    "Input:<br/>/\n",
    "`list = [`\n",
    "`np.array([3, 2, 8, 9]),`\n",
    "`np.array([4, 12, 34, 25, 78]),`\n",
    "`np.array([23, 12, 67])`\n",
    "`]`<br/>\n",
    "Output:<br/>\n",
    "Mean of every array is:\n",
    "`[5.5, 30.6, 34.0]`"
   ]
  },
  {
   "cell_type": "code",
   "execution_count": null,
   "metadata": {},
   "outputs": [],
   "source": [
    "import numpy as np\n",
    "list = [\n",
    "        np.array([3, 2, 8, 9]),\n",
    "        np.array([4, 12, 34, 25, 78]),\n",
    "        np.array([23, 12, 67])\n",
    "       ]\n",
    "mean_list = [np.mean(i) for i in list]\n",
    "print(f'Mean of every array is : {mean_list}')"
   ]
  },
  {
   "cell_type": "markdown",
   "metadata": {},
   "source": [
    "#### 2. Compute the median of the flattened NumPy array.<hr/>\n",
    "Input:<br/>\n",
    "`x_odd = np.array([1, 2, 3, 4, 5, 6, 7])`<br/>\n",
    "Output:<br/>\n",
    "`Printing the original array: [1, 2, 3, 4, 5, 6, 7]`<br/>\n",
    "`median of array that contains odd numbers = 4.0`"
   ]
  },
  {
   "cell_type": "code",
   "execution_count": null,
   "metadata": {},
   "outputs": [],
   "source": [
    "import numpy as np\n",
    "x_odd = np.array([1, 2, 3, 4, 5, 6, 7])\n",
    "print(f\"Printing the original array : {x_odd}\")\n",
    "print(f\"median of array that contains odd numbers : {np.median(x_odd)}\")"
   ]
  },
  {
   "cell_type": "markdown",
   "metadata": {},
   "source": [
    "#### 3.Compute the standard deviation of the NumPy array.<hr/>\n",
    "Input:<br/>\n",
    "`arr = [20, 2, 7, 1, 34]`<br/><br/>\n",
    "Output:<br/>\n",
    "`std of arr : 12.576167937809991`<br/><br/>\n",
    "*More Precision with float32*<br/>\n",
    "`std of arr : 12.576167937809991`<br/><br/>\n",
    "*More Precision with float64*<br/>\n",
    "`std of arr : 12.576167937809991`"
   ]
  },
  {
   "cell_type": "code",
   "execution_count": null,
   "metadata": {},
   "outputs": [],
   "source": [
    "import numpy as np\n",
    "arr = [20, 2, 7, 1, 34]\n",
    "\n",
    "print(\"std of arr : \", np.std(arr))\n",
    "print('More Precision with float32')\n",
    "print(\"std of arr : \", np.std(arr, dtype = np.float32))\n",
    "print('More Precision with float64')\n",
    "print(\"std of arr : \", np.std(arr, dtype=np.float64))\n"
   ]
  },
  {
   "cell_type": "markdown",
   "metadata": {},
   "source": [
    "<b>*4.Suppose you have a CSV file named 'house_prices.csv' with price information, and you want to perform the following operations:* </b>\n",
    "- 1.Read the data from the CSV file into a NumPy array.\n",
    "- 2.Calculate the average of house prices.\n",
    "- 3.Identify house price above the average.\n",
    "- 4.Save the list of high prices to a new CSV file.\n",
    "Note: Download 'house_prices.csv' file from LMS.\n",
    "<hr/>\n",
    "Output:"
   ]
  },
  {
   "cell_type": "code",
   "execution_count": 19,
   "metadata": {},
   "outputs": [
    {
     "name": "stdout",
     "output_type": "stream",
     "text": [
      "Average House price: 390625.0\n",
      "High-Pricing Houses:[\n",
      "(1, 450000.0)\n",
      "(3, 500000.0)\n",
      "(5, 400000.0)\n",
      "(7, 600000.0)\n",
      "]\n"
     ]
    }
   ],
   "source": [
    "import numpy as np\n",
    "house_prices = np.genfromtxt('house_prices.csv', delimiter=',')\n",
    "\n",
    "average_price = np.mean(house_prices)\n",
    "above_average_prices = house_prices > average_price\n",
    "\n",
    "print(f\"Average House price: {average_price}\")\n",
    "print(f\"High-Pricing Houses:[\")\n",
    "for i in range(len(house_prices)):\n",
    "    if above_average_prices[i] == True:\n",
    "        print(f'({i}, {house_prices[i]})')\n",
    "print(\"]\")\n",
    "\n",
    "np.savetxt('high_prices.csv', house_prices[above_average_prices], delimiter=',', header='High Prices', comments='')"
   ]
  }
 ],
 "metadata": {
  "kernelspec": {
   "display_name": "venv",
   "language": "python",
   "name": "python3"
  },
  "language_info": {
   "codemirror_mode": {
    "name": "ipython",
    "version": 3
   },
   "file_extension": ".py",
   "mimetype": "text/x-python",
   "name": "python",
   "nbconvert_exporter": "python",
   "pygments_lexer": "ipython3",
   "version": "3.12.4"
  }
 },
 "nbformat": 4,
 "nbformat_minor": 2
}
