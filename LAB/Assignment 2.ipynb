{
 "cells": [
  {
   "cell_type": "code",
   "execution_count": 1,
   "metadata": {},
   "outputs": [
    {
     "name": "stdout",
     "output_type": "stream",
     "text": [
      "Cannot divide by zero\n"
     ]
    }
   ],
   "source": [
    "# 1. Write a Python program to handle a ZeroDivisionError exception when dividing a number by zero.\n",
    "\n",
    "try:\n",
    "    a = int(input(\"Enter a number: \"))\n",
    "    b = int(input(\"Enter a number: \"))\n",
    "    c = a/b\n",
    "    print(c)\n",
    "except ZeroDivisionError:\n",
    "    \n",
    "    print(\"Cannot divide by zero\")"
   ]
  },
  {
   "cell_type": "code",
   "execution_count": 5,
   "metadata": {},
   "outputs": [
    {
     "name": "stdout",
     "output_type": "stream",
     "text": [
      "Invalid input. Please enter a valid integer.\n"
     ]
    }
   ],
   "source": [
    "# 2. Write a Python program that prompts the user to input an integer and raises a ValueError exception if the input is not a valid integer.\n",
    "try:\n",
    "    a = int(input(\"Enter a number: \"))\n",
    "    print(\"You entered:\", a)\n",
    "except ValueError:\n",
    "    print(\"Invalid input. Please enter a valid integer.\")"
   ]
  },
  {
   "cell_type": "code",
   "execution_count": 4,
   "metadata": {},
   "outputs": [
    {
     "name": "stdout",
     "output_type": "stream",
     "text": [
      "File not found\n"
     ]
    }
   ],
   "source": [
    "# 3. Write a Python program that opens a file and handles a FileNotFoundError exception if the file does not exist.\n",
    "try:\n",
    "    f=open(\"file.txt\",\"r\")\n",
    "    f.read()\n",
    "except FileNotFoundError:\n",
    "    print(\"File not found\")"
   ]
  },
  {
   "cell_type": "code",
   "execution_count": 9,
   "metadata": {},
   "outputs": [
    {
     "name": "stdout",
     "output_type": "stream",
     "text": [
      "Inputs are not numerical\n"
     ]
    }
   ],
   "source": [
    "# 4. Write a Python program that prompts the user to input two numbers and raises a TypeError exception if the inputs are not \n",
    "#    numerical.\n",
    "try:\n",
    "    a = float(input(\"Enter a number: \"))\n",
    "    b = float(input(\"Enter another number: \"))\n",
    "    print(\"You entered:\", a, \" and \", b)\n",
    "except ValueError:\n",
    "    print(\"Inputs are not numerical\")"
   ]
  }
 ],
 "metadata": {
  "kernelspec": {
   "display_name": "venv",
   "language": "python",
   "name": "python3"
  },
  "language_info": {
   "codemirror_mode": {
    "name": "ipython",
    "version": 3
   },
   "file_extension": ".py",
   "mimetype": "text/x-python",
   "name": "python",
   "nbconvert_exporter": "python",
   "pygments_lexer": "ipython3",
   "version": "3.12.4"
  }
 },
 "nbformat": 4,
 "nbformat_minor": 2
}
