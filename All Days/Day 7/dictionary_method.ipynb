{
 "cells": [
  {
   "cell_type": "markdown",
   "metadata": {},
   "source": [
    "## `Dictionary Methods`\n",
    "#### there are many methods"
   ]
  },
  {
   "cell_type": "code",
   "execution_count": 25,
   "metadata": {},
   "outputs": [],
   "source": [
    "\n",
    "#! SAMPLE\n",
    "student = {\n",
    "    'stdid' : 'std101', \n",
    "    'maths' : 78,\n",
    "    'english' : 80,\n",
    "    'hindi' : 85,\n",
    "    'stdname' : 'bhavya garg',\n",
    "    'age' : 12\n",
    "}"
   ]
  },
  {
   "cell_type": "markdown",
   "metadata": {},
   "source": [
    "1. `pop()`\n",
    "it is used to remove a item from dictionary on the basis of key"
   ]
  },
  {
   "cell_type": "code",
   "execution_count": 26,
   "metadata": {},
   "outputs": [
    {
     "ename": "TypeError",
     "evalue": "pop expected at least 1 argument, got 0",
     "output_type": "error",
     "traceback": [
      "\u001b[1;31m---------------------------------------------------------------------------\u001b[0m",
      "\u001b[1;31mTypeError\u001b[0m                                 Traceback (most recent call last)",
      "Cell \u001b[1;32mIn[26], line 3\u001b[0m\n\u001b[0;32m      1\u001b[0m \u001b[38;5;66;03m#! POP IN INDEX\u001b[39;00m\n\u001b[1;32m----> 3\u001b[0m \u001b[38;5;28mprint\u001b[39m(\u001b[43mstudent\u001b[49m\u001b[38;5;241;43m.\u001b[39;49m\u001b[43mpop\u001b[49m\u001b[43m(\u001b[49m\u001b[43m)\u001b[49m)  \u001b[38;5;66;03m#* error\u001b[39;00m\n",
      "\u001b[1;31mTypeError\u001b[0m: pop expected at least 1 argument, got 0"
     ]
    }
   ],
   "source": [
    "#! POP IN INDEX\n",
    "\n",
    "print(student.pop())  #* error"
   ]
  },
  {
   "cell_type": "code",
   "execution_count": 27,
   "metadata": {},
   "outputs": [
    {
     "name": "stdout",
     "output_type": "stream",
     "text": [
      "{'stdid': 'std101', 'english': 80, 'hindi': 85, 'stdname': 'bhavya garg', 'age': 12}\n"
     ]
    }
   ],
   "source": [
    "#! POP IN INDEX\n",
    "student.pop('maths')\n",
    "print(student)  "
   ]
  },
  {
   "cell_type": "markdown",
   "metadata": {},
   "source": [
    "2. `popItem()`\n",
    "to delete last item from dictionary"
   ]
  },
  {
   "cell_type": "code",
   "execution_count": 28,
   "metadata": {},
   "outputs": [
    {
     "name": "stdout",
     "output_type": "stream",
     "text": [
      "deleted item :  ('age', 12)\n",
      "{'stdid': 'std101', 'english': 80, 'hindi': 85, 'stdname': 'bhavya garg'}\n"
     ]
    }
   ],
   "source": [
    "deletedItem = student.popitem()\n",
    "print(\"deleted item : \", deletedItem)  \n",
    "print(student)"
   ]
  },
  {
   "cell_type": "markdown",
   "metadata": {},
   "source": [
    "3. `keys()`\n",
    "to return a list of keys of element in dictionary."
   ]
  },
  {
   "cell_type": "code",
   "execution_count": 31,
   "metadata": {},
   "outputs": [
    {
     "name": "stdout",
     "output_type": "stream",
     "text": [
      "dict_keys(['stdid', 'english', 'hindi', 'stdname'])\n"
     ]
    }
   ],
   "source": [
    "elementKey = student.keys()\n",
    "print(elementKey)"
   ]
  },
  {
   "cell_type": "code",
   "execution_count": 33,
   "metadata": {},
   "outputs": [
    {
     "name": "stdout",
     "output_type": "stream",
     "text": [
      "stdid\n",
      "english\n",
      "hindi\n",
      "stdname\n"
     ]
    }
   ],
   "source": [
    "for key in elementKey:\n",
    "    print(key)"
   ]
  },
  {
   "cell_type": "markdown",
   "metadata": {},
   "source": [
    "4. `values()`\n",
    "to return a list of values of element in dictionary."
   ]
  },
  {
   "cell_type": "code",
   "execution_count": 32,
   "metadata": {},
   "outputs": [
    {
     "name": "stdout",
     "output_type": "stream",
     "text": [
      "dict_values(['std101', 80, 85, 'bhavya garg'])\n"
     ]
    }
   ],
   "source": [
    "elementValues = student.values()\n",
    "print(elementValues)"
   ]
  },
  {
   "cell_type": "code",
   "execution_count": 34,
   "metadata": {},
   "outputs": [
    {
     "name": "stdout",
     "output_type": "stream",
     "text": [
      "std101\n",
      "80\n",
      "85\n",
      "bhavya garg\n"
     ]
    }
   ],
   "source": [
    "for value in elementValues:\n",
    "    print(value)"
   ]
  },
  {
   "cell_type": "markdown",
   "metadata": {},
   "source": [
    "5. `items()`\n",
    "to return a list of items from dictionary [Each item which contain (key, value) of each element]"
   ]
  },
  {
   "cell_type": "code",
   "execution_count": 36,
   "metadata": {},
   "outputs": [
    {
     "name": "stdout",
     "output_type": "stream",
     "text": [
      "dict_items([('stdid', 'std101'), ('english', 80), ('hindi', 85), ('stdname', 'bhavya garg')])\n"
     ]
    }
   ],
   "source": [
    "elementItems = student.items()\n",
    "print(elementItems)"
   ]
  },
  {
   "cell_type": "code",
   "execution_count": 37,
   "metadata": {},
   "outputs": [
    {
     "name": "stdout",
     "output_type": "stream",
     "text": [
      "('stdid', 'std101')\n",
      "('english', 80)\n",
      "('hindi', 85)\n",
      "('stdname', 'bhavya garg')\n"
     ]
    }
   ],
   "source": [
    "for item in elementItems:\n",
    "    print(item)"
   ]
  },
  {
   "cell_type": "markdown",
   "metadata": {},
   "source": [
    "6. `get()`\n",
    "get method give us the value of the key(or a particular element).\n",
    "\n",
    "`variable = dic_name.get(<key>, <else-condition>)`"
   ]
  },
  {
   "cell_type": "code",
   "execution_count": 38,
   "metadata": {},
   "outputs": [
    {
     "name": "stdout",
     "output_type": "stream",
     "text": [
      "std101\n"
     ]
    }
   ],
   "source": [
    "elementValue2 = student.get(\"stdid\")\n",
    "print(elementValue2)"
   ]
  },
  {
   "cell_type": "code",
   "execution_count": 39,
   "metadata": {},
   "outputs": [
    {
     "name": "stdout",
     "output_type": "stream",
     "text": [
      "element does not exist\n"
     ]
    }
   ],
   "source": [
    "elementValue2 = student.get(\"name\", \"element does not exist\")\n",
    "print(elementValue2)"
   ]
  },
  {
   "cell_type": "markdown",
   "metadata": {},
   "source": [
    "7. `len()`\n",
    "length of dicionary"
   ]
  },
  {
   "cell_type": "code",
   "execution_count": 41,
   "metadata": {},
   "outputs": [
    {
     "name": "stdout",
     "output_type": "stream",
     "text": [
      "4\n"
     ]
    }
   ],
   "source": [
    "var = len(student)\n",
    "print(var)"
   ]
  },
  {
   "cell_type": "markdown",
   "metadata": {},
   "source": [
    "8. `clear()`\n",
    "clear all element in dictionary"
   ]
  },
  {
   "cell_type": "code",
   "execution_count": 42,
   "metadata": {},
   "outputs": [
    {
     "name": "stdout",
     "output_type": "stream",
     "text": [
      "{}\n"
     ]
    }
   ],
   "source": [
    "student.clear()\n",
    "print(student)"
   ]
  }
 ],
 "metadata": {
  "kernelspec": {
   "display_name": "venv",
   "language": "python",
   "name": "python3"
  },
  "language_info": {
   "codemirror_mode": {
    "name": "ipython",
    "version": 3
   },
   "file_extension": ".py",
   "mimetype": "text/x-python",
   "name": "python",
   "nbconvert_exporter": "python",
   "pygments_lexer": "ipython3",
   "version": "3.12.4"
  }
 },
 "nbformat": 4,
 "nbformat_minor": 2
}
