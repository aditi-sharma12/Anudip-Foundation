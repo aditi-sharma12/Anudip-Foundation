{
 "cells": [
  {
   "cell_type": "code",
   "execution_count": 6,
   "metadata": {},
   "outputs": [],
   "source": [
    "tuple  = (10,20,30,40,50)"
   ]
  },
  {
   "cell_type": "code",
   "execution_count": 9,
   "metadata": {},
   "outputs": [
    {
     "name": "stdout",
     "output_type": "stream",
     "text": [
      "10\n",
      "20\n",
      "30\n",
      "40\n",
      "50\n"
     ]
    }
   ],
   "source": [
    "# display element of tuple in forward direction using backward indexing\n",
    "# Method : 1\n",
    "length = len(tuple)\n",
    "for i in range(length - 1, -1, -1):\n",
    "    print(tuple[length - i - 1])"
   ]
  },
  {
   "cell_type": "code",
   "execution_count": 10,
   "metadata": {},
   "outputs": [
    {
     "name": "stdout",
     "output_type": "stream",
     "text": [
      "10\n",
      "20\n",
      "30\n",
      "40\n",
      "50\n"
     ]
    }
   ],
   "source": [
    "# display element of tuple in forward direction using backward indexing\n",
    "# Method : 2 \n",
    "\n",
    "for index in range(-len(tuple),0):\n",
    "    print(tuple[index])"
   ]
  },
  {
   "cell_type": "code",
   "execution_count": 14,
   "metadata": {},
   "outputs": [
    {
     "name": "stdout",
     "output_type": "stream",
     "text": [
      "50\n",
      "40\n",
      "30\n",
      "20\n",
      "10\n"
     ]
    }
   ],
   "source": [
    "# display element of tuple in backward direction using forward indexing\n",
    "# Method : 1\n",
    "length = len(tuple)\n",
    "for i in range(length - 1, -1, -1):\n",
    "    print(tuple[i])    "
   ]
  },
  {
   "cell_type": "code",
   "execution_count": 15,
   "metadata": {},
   "outputs": [
    {
     "name": "stdout",
     "output_type": "stream",
     "text": [
      "50\n",
      "40\n",
      "30\n",
      "20\n"
     ]
    }
   ],
   "source": [
    "# display element of tuple in backward direction using forward indexing\n",
    "# Method : 2\n",
    "for index in range(1, len(tuple)):\n",
    "    print(tuple[-index])"
   ]
  },
  {
   "cell_type": "code",
   "execution_count": 13,
   "metadata": {},
   "outputs": [
    {
     "name": "stdout",
     "output_type": "stream",
     "text": [
      "Tuple :  (10, 20, 30, 40, 50)\n",
      "SUM : 150\n"
     ]
    }
   ],
   "source": [
    "# sum of all element in tuples\n",
    "print(\"Tuple : \", tuple)\n",
    "sum = 0\n",
    "for i in tuple:\n",
    "    sum += i\n",
    "print(\"SUM :\", sum)"
   ]
  },
  {
   "cell_type": "code",
   "execution_count": 20,
   "metadata": {},
   "outputs": [
    {
     "name": "stdout",
     "output_type": "stream",
     "text": [
      "([1, 20, 3, 4], 50)\n"
     ]
    }
   ],
   "source": [
    "# manipulation of elements in a tuple\n",
    "\n",
    "items = ([1, 2, 3, 4], 50)\n",
    "\n",
    "# items[0] = 45\n",
    "# items[0].append(5)\n",
    "# items[1] = 20\n",
    "items[0][1] = 20\n",
    "print(items)"
   ]
  }
 ],
 "metadata": {
  "kernelspec": {
   "display_name": "venv",
   "language": "python",
   "name": "python3"
  },
  "language_info": {
   "codemirror_mode": {
    "name": "ipython",
    "version": 3
   },
   "file_extension": ".py",
   "mimetype": "text/x-python",
   "name": "python",
   "nbconvert_exporter": "python",
   "pygments_lexer": "ipython3",
   "version": "3.12.4"
  }
 },
 "nbformat": 4,
 "nbformat_minor": 2
}
