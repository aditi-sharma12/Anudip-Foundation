{
 "cells": [
  {
   "cell_type": "markdown",
   "metadata": {},
   "source": [
    "**`Object Oriented Programming`**\n"
   ]
  },
  {
   "cell_type": "code",
   "execution_count": 2,
   "metadata": {},
   "outputs": [
    {
     "name": "stdout",
     "output_type": "stream",
     "text": [
      "Bhavya Garg\n",
      "21\n",
      "I am studying\n"
     ]
    }
   ],
   "source": [
    "class Student:\n",
    "    name = \"Bhavya Garg\"\n",
    "    age = 21\n",
    "    \n",
    "    def study(self):\n",
    "        print(\"I am studying\")\n",
    "        \n",
    "#  deiver code\n",
    "if __name__ == '__main__':\n",
    "    \n",
    "    '''study()'''    # gives error\n",
    "    \n",
    "    s1 = Student()\n",
    "    print(s1.name)\n",
    "    print(s1.age)\n",
    "    s1.study()"
   ]
  },
  {
   "cell_type": "code",
   "execution_count": 3,
   "metadata": {},
   "outputs": [
    {
     "name": "stdout",
     "output_type": "stream",
     "text": [
      "Bhavya Garg\n",
      "21\n",
      "I am studying Bhavya Garg\n"
     ]
    }
   ],
   "source": [
    "class Student:\n",
    "    name = \"Bhavya Garg\"\n",
    "    age = 21\n",
    "    \n",
    "    def study(self):\n",
    "        '''print(\"I am studying\", name)'''    # gives error\n",
    "        print(\"I am studying\", self.name)\n",
    "        \n",
    "#  driver code\n",
    "if __name__ == '__main__':    \n",
    "    s1 = Student()\n",
    "    print(s1.name)\n",
    "    print(s1.age)\n",
    "    s1.study()"
   ]
  },
  {
   "cell_type": "markdown",
   "metadata": {},
   "source": [
    "**`self`**\n",
    "used to refrence current object"
   ]
  },
  {
   "cell_type": "code",
   "execution_count": 4,
   "metadata": {},
   "outputs": [
    {
     "name": "stdout",
     "output_type": "stream",
     "text": [
      "i am a function outside of class\n",
      "I am studying\n"
     ]
    }
   ],
   "source": [
    "def show():\n",
    "    print('i am a function outside of class')\n",
    "\n",
    "class Student:\n",
    "    def study(self):\n",
    "        show()\n",
    "        print(\"I am studying\")\n",
    "    \n",
    "    def show (self):\n",
    "        print('I am a method inside the class')\n",
    "        \n",
    "    \n",
    "#  driver code\n",
    "if __name__ == '__main__':    \n",
    "    s1 = Student()\n",
    "    s1.study()"
   ]
  },
  {
   "cell_type": "code",
   "execution_count": 5,
   "metadata": {},
   "outputs": [
    {
     "name": "stdout",
     "output_type": "stream",
     "text": [
      "I am a method inside the class\n",
      "I am studying\n"
     ]
    }
   ],
   "source": [
    "def show():\n",
    "    print('i am a function outside of class')\n",
    "\n",
    "class Student:\n",
    "    def study(self):\n",
    "        self.show()\n",
    "        print(\"I am studying\")\n",
    "    \n",
    "    def show (self):\n",
    "        print('I am a method inside the class')\n",
    "        \n",
    "    \n",
    "#  driver code\n",
    "if __name__ == '__main__':    \n",
    "    s1 = Student()\n",
    "    s1.study()"
   ]
  },
  {
   "cell_type": "markdown",
   "metadata": {},
   "source": [
    "### `Inheritance`\n",
    "***Type of inheritance:***\n",
    "- Simple Inheritance \n",
    "- Multiple Inheritance\n",
    "- Multilevel Inheritance\n",
    "- Heirarchial Inheritance\n",
    "- Hybrid Inheritance"
   ]
  },
  {
   "cell_type": "markdown",
   "metadata": {},
   "source": [
    "**Simple Inheritance**"
   ]
  },
  {
   "cell_type": "code",
   "execution_count": 6,
   "metadata": {},
   "outputs": [
    {
     "name": "stdout",
     "output_type": "stream",
     "text": [
      "This is a class show method\n"
     ]
    }
   ],
   "source": [
    "class A:\n",
    "    name = \"Bhavya\"\n",
    "    def show(self):\n",
    "        print(\"This is a class show method\")\n",
    "        \n",
    "class B(A):\n",
    "    pass\n",
    "   \n",
    "#  driver code\n",
    "if __name__ == '__main__':    \n",
    "    obj1 = B()\n",
    "    obj1.show()\n"
   ]
  },
  {
   "cell_type": "markdown",
   "metadata": {},
   "source": [
    "**Multilevel Inheritance**"
   ]
  },
  {
   "cell_type": "code",
   "execution_count": 7,
   "metadata": {},
   "outputs": [
    {
     "name": "stdout",
     "output_type": "stream",
     "text": [
      "This is a class show method\n",
      "This is demo method\n"
     ]
    }
   ],
   "source": [
    "class A:\n",
    "    name = \"Bhavya\"\n",
    "    def show(self):\n",
    "        print(\"This is a class show method\")\n",
    "        \n",
    "class B(A):\n",
    "    def demo(self): \n",
    "        print(\"This is demo method\")\n",
    "        \n",
    "class C(B):\n",
    "    pass\n",
    "   \n",
    "#  driver code\n",
    "if __name__ == '__main__':    \n",
    "    obj1 = C()\n",
    "    obj1.show()\n",
    "    obj1.demo()\n"
   ]
  },
  {
   "cell_type": "markdown",
   "metadata": {},
   "source": [
    "**Multiple Inheritance**"
   ]
  },
  {
   "cell_type": "code",
   "execution_count": 10,
   "metadata": {},
   "outputs": [
    {
     "name": "stdout",
     "output_type": "stream",
     "text": [
      "This is a class show method\n",
      "This is demo method\n"
     ]
    }
   ],
   "source": [
    "class A:\n",
    "    name = \"Bhavya\"\n",
    "    def show(self):\n",
    "        print(\"This is a class show method\")\n",
    "        \n",
    "class B:\n",
    "    def demo(self): \n",
    "        print(\"This is demo method\")\n",
    "        \n",
    "class C(A, B):\n",
    "    pass\n",
    "   \n",
    "#  driver code\n",
    "if __name__ == '__main__':    \n",
    "    obj1 = C()\n",
    "    obj1.show()\n",
    "    obj1.demo()\n"
   ]
  },
  {
   "cell_type": "markdown",
   "metadata": {},
   "source": [
    "**Hierarchial Inheritance**"
   ]
  },
  {
   "cell_type": "code",
   "execution_count": 9,
   "metadata": {},
   "outputs": [
    {
     "name": "stdout",
     "output_type": "stream",
     "text": [
      "This is a class show method\n"
     ]
    }
   ],
   "source": [
    "class A:\n",
    "    name = \"Bhavya\"\n",
    "    def show(self):\n",
    "        print(\"This is a class show method\")\n",
    "        \n",
    "class B(A):\n",
    "    def demo(self): \n",
    "        print(\"This is demo method\")\n",
    "        \n",
    "class C(A):\n",
    "    pass\n",
    "   \n",
    "#  driver code\n",
    "if __name__ == '__main__':    \n",
    "    obj1 = C()\n",
    "    obj1.show()\n",
    "    # obj1.demo()\n"
   ]
  },
  {
   "cell_type": "markdown",
   "metadata": {},
   "source": [
    "**Hybrid Inheritance**"
   ]
  },
  {
   "cell_type": "code",
   "execution_count": 12,
   "metadata": {},
   "outputs": [
    {
     "name": "stdout",
     "output_type": "stream",
     "text": [
      "This is a class show method\n",
      "This is demo method\n",
      "i study 24 hrs\n"
     ]
    }
   ],
   "source": [
    "class A:\n",
    "    name = \"Bhavya\"\n",
    "    def show(self):\n",
    "        print(\"This is a class show method\")\n",
    "        \n",
    "class B(A):\n",
    "    def demo(self): \n",
    "        print(\"This is demo method\")\n",
    "        \n",
    "class C(A):\n",
    "    def study(self):\n",
    "        print(\"i study 24 hrs\")\n",
    "   \n",
    "class D(B, C):\n",
    "    pass\n",
    "#  driver code\n",
    "if __name__ == '__main__':    \n",
    "    obj1 = D()\n",
    "    obj1.show()\n",
    "    obj1.demo()\n",
    "    obj1.study()\n"
   ]
  },
  {
   "cell_type": "markdown",
   "metadata": {},
   "source": [
    "#### Polymorphism<hr/>\n",
    "polymorphism lets us define methods in the child class that have the same name as the methods in the parent class.\n",
    "In inheitance, the child has inherits from the parent class.\n",
    "However, it is possible to modify a method in a child class that it has inherited from the parent class doesn't quite fit in the child class.\n",
    "in such cases, we re-implementing \n",
    "\n",
    "**Types of polymorphism**<hr/>\n",
    "- Method overloading (not supported in python)\n",
    "- Method overiding\n"
   ]
  },
  {
   "cell_type": "code",
   "execution_count": 15,
   "metadata": {},
   "outputs": [
    {
     "name": "stdout",
     "output_type": "stream",
     "text": [
      "name is : Bhavya\n",
      "age is : 21\n",
      "sid is : 101\n"
     ]
    }
   ],
   "source": [
    "# METHOD OVERLOADING : NOT SUPPORTED IN PYTHON\n",
    "def setData(name, age):\n",
    "    print(f'name is : {name}')\n",
    "    print(f'age is : {age}')\n",
    "    \n",
    "    \n",
    "def setData(sid, name, age):\n",
    "    print(f'name is : {name}')\n",
    "    print(f'age is : {age}')\n",
    "    print(f'sid is : {sid}')\n",
    "    \n",
    "'''setData(\"Sanjay\", 25)'''   # gives Error\n",
    "setData(101, \"Bhavya\", 21)"
   ]
  },
  {
   "cell_type": "code",
   "execution_count": 3,
   "metadata": {},
   "outputs": [
    {
     "name": "stdout",
     "output_type": "stream",
     "text": [
      "bird Sparrow can fly.\n"
     ]
    }
   ],
   "source": [
    "# METHOD OVERIDING\n",
    "\n",
    "class Bird:\n",
    "    def intro(self):\n",
    "        print(\"There are many type of birds\")\n",
    "    \n",
    "    def flight(self):\n",
    "        print(\"Most of the bird can fly. But some can not\")\n",
    "        \n",
    "class Sparrow(Bird):\n",
    "    def flight(self):\n",
    "        print(\"bird Sparrow can fly.\")\n",
    "        \n",
    "class Ostrich(Bird):\n",
    "    def flight(self):\n",
    "        print(\"Ostrich can't fly.\")\n",
    "        \n",
    "s = Sparrow()\n",
    "s.flight()"
   ]
  },
  {
   "cell_type": "code",
   "execution_count": 8,
   "metadata": {},
   "outputs": [
    {
     "name": "stdout",
     "output_type": "stream",
     "text": [
      "Line 1\n",
      "Line 2\n",
      "Line 3\n",
      "Line 4\n",
      "[Errno 2] No such file or directory: 'abc.txt'\n",
      "Line 5\n",
      "Line 6\n",
      "Line 7\n",
      "Line 8\n"
     ]
    }
   ],
   "source": [
    "print(\"Line 1\")\n",
    "print(\"Line 2\")\n",
    "print(\"Line 3\")\n",
    "print(\"Line 4\")\n",
    "try:      \n",
    "    print(100/0)\n",
    "    open('abc.txt')\n",
    "except ZeroDivisionError as e:\n",
    "    print(e) \n",
    "except FileNotFoundError as e:\n",
    "    print(e)\n",
    "    \n",
    "    \n",
    "print(\"Line 5\")\n",
    "print(\"Line 6\")\n",
    "print(\"Line 7\")\n",
    "print(\"Line 8\")\n"
   ]
  }
 ],
 "metadata": {
  "kernelspec": {
   "display_name": "venv",
   "language": "python",
   "name": "python3"
  },
  "language_info": {
   "codemirror_mode": {
    "name": "ipython",
    "version": 3
   },
   "file_extension": ".py",
   "mimetype": "text/x-python",
   "name": "python",
   "nbconvert_exporter": "python",
   "pygments_lexer": "ipython3",
   "version": "3.12.4"
  }
 },
 "nbformat": 4,
 "nbformat_minor": 2
}
