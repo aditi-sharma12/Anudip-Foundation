{
 "cells": [
  {
   "cell_type": "markdown",
   "metadata": {},
   "source": [
    "**What is Numpy??**<hr/>\n",
    "NumPy, which stands for \"Numerical Python,\" is a popular Python library for numerical and scientific computing. It provides support for working with large, multi-dimensional arrays and matrices of data, along with a collection of mathematical functions to operate on these arrays.\n",
    "\n",
    "NumPy is a fundamental library for data manipulation and analysis in Python and is widely used in various fields such as data science, machine learning, scientific research, and engineering\n"
   ]
  },
  {
   "cell_type": "code",
   "execution_count": 2,
   "metadata": {},
   "outputs": [],
   "source": [
    "import numpy as np"
   ]
  },
  {
   "cell_type": "code",
   "execution_count": 12,
   "metadata": {},
   "outputs": [
    {
     "name": "stdout",
     "output_type": "stream",
     "text": [
      "a: [1 2 3 4 5]\n",
      "\n",
      "b: [[1 2 3 4 5]\n",
      " [1 2 3 4 5]]\n",
      "\n",
      "c: [[[1 2 3 4 5]\n",
      "  [1 2 3 4 5]]\n",
      "\n",
      " [[1 2 3 4 5]\n",
      "  [1 2 3 4 5]]]\n",
      "\n",
      "d: [[[[1 2 3 4 5]\n",
      "   [1 2 3 4 5]]\n",
      "\n",
      "  [[1 2 3 4 5]\n",
      "   [1 2 3 4 5]]]\n",
      "\n",
      "\n",
      " [[[1 2 3 4 5]\n",
      "   [1 2 3 4 5]]\n",
      "\n",
      "  [[1 2 3 4 5]\n",
      "   [1 2 3 4 5]]]]\n",
      "\n",
      "dimension of a: 1\n",
      "dimension of b: 2\n",
      "dimension of c: 3\n",
      "dimension of d: 4\n",
      "shape of a: (5,)\n",
      "shape of b: (2, 5)\n",
      "shape of c: (2, 2, 5)\n",
      "shape of d: (2, 2, 2, 5)\n"
     ]
    }
   ],
   "source": [
    "a = np.array([1,2,3,4,5])\n",
    "b = np.array([[1,2,3,4,5], [1,2,3,4,5]])\n",
    "c = np.array([[[1,2,3,4,5], [1,2,3,4,5]], [[1,2,3,4,5], [1,2,3,4,5]]])\n",
    "d = np.array([[[[1,2,3,4,5], [1,2,3,4,5]], [[1,2,3,4,5], [1,2,3,4,5]]], [[[1,2,3,4,5], [1,2,3,4,5]], [[1,2,3,4,5], [1,2,3,4,5]]]])\n",
    "\n",
    "print('a:', a)\n",
    "print()\n",
    "print('b:', b)\n",
    "print()\n",
    "print('c:', c)\n",
    "print()\n",
    "print('d:', d)\n",
    "print()\n",
    "print('dimension of a:', a.ndim)\n",
    "print('dimension of b:', b.ndim)\n",
    "print('dimension of c:', c.ndim)\n",
    "print('dimension of d:', d.ndim)\n",
    "\n",
    "print('shape of a:', a.shape)\n",
    "print('shape of b:', b.shape)\n",
    "print('shape of c:', c.shape)\n",
    "print('shape of d:', d.shape)\n"
   ]
  },
  {
   "cell_type": "markdown",
   "metadata": {},
   "source": [
    "**Create a NumPy ndarray Object**<hr/>\n",
    "NumPy is used to work with arrays. The array object in NumPy is called ndarray. We can create a NumPy ndarray object by using the array() function.\n",
    "\n",
    "**Dimensions in Arrays**\n",
    "##### 1) 0-D Arrays \n",
    "    - 0-D arrays, or Scalars, are the elements in an array. \n",
    "    - Each value in an array is a 0-D array.\n",
    "##### 2) 1-D Arrays\n",
    "    - An array that has 0-D arrays as its elements is called uni-dimensional or 1-D array\n",
    "    - These are the most common and basic arrays.\n",
    "##### 3) 2-D Arrays\n",
    "    - An array that has 1-D arrays as its elements is called a 2-D array.\n",
    "    -These are often used to represent matrix or 2nd order tensors.\n",
    "##### 4) 3-D arrays\n",
    "    - An array that has 2-D arrays (matrices) as its elements is called 3-D array.\n",
    "    - These are often used to represent a 3rd order tensor."
   ]
  },
  {
   "cell_type": "code",
   "execution_count": 16,
   "metadata": {},
   "outputs": [
    {
     "name": "stdout",
     "output_type": "stream",
     "text": [
      "[ True False  True]\n"
     ]
    }
   ],
   "source": [
    "import numpy as np\n",
    "\n",
    "arr = np.array([True, False, True], dtype = np.bool)\n",
    "print(arr)\n"
   ]
  },
  {
   "cell_type": "code",
   "execution_count": 28,
   "metadata": {},
   "outputs": [
    {
     "name": "stdout",
     "output_type": "stream",
     "text": [
      "['apple' 2 3.5]\n"
     ]
    }
   ],
   "source": [
    "import numpy as np\n",
    "\n",
    "arr = np.array(['apple', 2, 3.5], dtype = np.object_)\n",
    "print(arr)\n"
   ]
  },
  {
   "cell_type": "code",
   "execution_count": 32,
   "metadata": {},
   "outputs": [
    {
     "name": "stdout",
     "output_type": "stream",
     "text": [
      "[b'hello' b' world']\n"
     ]
    }
   ],
   "source": [
    "import numpy as np\n",
    "\n",
    "arr = np.array(['hello', ' world'], dtype = np.bytes_)\n",
    "print(arr)\n"
   ]
  }
 ],
 "metadata": {
  "kernelspec": {
   "display_name": "venv",
   "language": "python",
   "name": "python3"
  },
  "language_info": {
   "codemirror_mode": {
    "name": "ipython",
    "version": 3
   },
   "file_extension": ".py",
   "mimetype": "text/x-python",
   "name": "python",
   "nbconvert_exporter": "python",
   "pygments_lexer": "ipython3",
   "version": "3.12.4"
  }
 },
 "nbformat": 4,
 "nbformat_minor": 2
}
