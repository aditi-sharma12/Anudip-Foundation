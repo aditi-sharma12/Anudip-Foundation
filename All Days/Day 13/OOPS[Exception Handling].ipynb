{
 "cells": [
  {
   "cell_type": "markdown",
   "metadata": {},
   "source": [
    "#### `Try-Except`"
   ]
  },
  {
   "cell_type": "code",
   "execution_count": 7,
   "metadata": {},
   "outputs": [
    {
     "name": "stdout",
     "output_type": "stream",
     "text": [
      "Line 1\n",
      "Line 2\n",
      "Line 3\n",
      "division by zero\n",
      "Line 4\n",
      "Line 5\n",
      "Line 6\n"
     ]
    }
   ],
   "source": [
    "print(\"Line 1\")\n",
    "print(\"Line 2\")\n",
    "print(\"Line 3\")\n",
    "try:      \n",
    "    print(100/0)\n",
    "    open('abc.txt')\n",
    "except ZeroDivisionError as e:\n",
    "    print(e) \n",
    "except FileNotFoundError as e:\n",
    "    print(e)\n",
    "        \n",
    "print(\"Line 4\")\n",
    "print(\"Line 5\")\n",
    "print(\"Line 6\")"
   ]
  },
  {
   "cell_type": "code",
   "execution_count": 8,
   "metadata": {},
   "outputs": [
    {
     "name": "stdout",
     "output_type": "stream",
     "text": [
      "Line 1\n",
      "Line 2\n",
      "Line 3\n",
      "something went wrong\n",
      "Line 4\n",
      "Line 5\n",
      "Line 6\n"
     ]
    }
   ],
   "source": [
    "print(\"Line 1\")\n",
    "print(\"Line 2\")\n",
    "print(\"Line 3\")\n",
    "try:      \n",
    "    print(100/0)\n",
    "    open('abc.txt')\n",
    "except:\n",
    "    print(\"something went wrong\")\n",
    "    \n",
    "    \n",
    "print(\"Line 4\")\n",
    "print(\"Line 5\")\n",
    "print(\"Line 6\")"
   ]
  },
  {
   "cell_type": "code",
   "execution_count": 12,
   "metadata": {},
   "outputs": [
    {
     "name": "stdout",
     "output_type": "stream",
     "text": [
      "Line 1\n",
      "Line 2\n",
      "Line 3\n",
      "\n",
      "something went wrong\n",
      "finally block\n",
      "\n",
      "Line 4\n",
      "Line 5\n",
      "Line 6\n"
     ]
    }
   ],
   "source": [
    "print(\"Line 1\")\n",
    "print(\"Line 2\")\n",
    "print(\"Line 3\")\n",
    "print()\n",
    "try:      \n",
    "    print(100/0)\n",
    "    open('abc.txt')\n",
    "except:\n",
    "    print(\"something went wrong\")\n",
    "\n",
    "else:\n",
    "    print(\"else block\")\n",
    "finally:\n",
    "    print(\"finally block\")\n",
    "print()\n",
    "print(\"Line 4\")\n",
    "print(\"Line 5\")\n",
    "print(\"Line 6\")"
   ]
  },
  {
   "cell_type": "code",
   "execution_count": 13,
   "metadata": {},
   "outputs": [
    {
     "name": "stdout",
     "output_type": "stream",
     "text": [
      "Line 1\n",
      "Line 2\n",
      "Line 3\n",
      "\n",
      "name 'name' is not defined\n",
      "\n",
      "Line 4\n",
      "Line 5\n",
      "Line 6\n"
     ]
    }
   ],
   "source": [
    "print(\"Line 1\")\n",
    "print(\"Line 2\")\n",
    "print(\"Line 3\")\n",
    "print()\n",
    "try:      \n",
    "    open(name)\n",
    "except NameError as e:\n",
    "    print(e)\n",
    "print()\n",
    "print(\"Line 4\")\n",
    "print(\"Line 5\")\n",
    "print(\"Line 6\")"
   ]
  },
  {
   "cell_type": "code",
   "execution_count": 25,
   "metadata": {},
   "outputs": [
    {
     "name": "stdout",
     "output_type": "stream",
     "text": [
      "Something Went wrong :  You are not eligible to vote\n"
     ]
    }
   ],
   "source": [
    "def checkAge(age):\n",
    "    if age>= 18:\n",
    "        print(\"You are eligible to vote\")\n",
    "    else:\n",
    "        raise ValueError(\"You are not eligible to vote\")\n",
    "\n",
    "age = int(input(\"Enter your age: \"))\n",
    "\n",
    "# checkAge(age)\n",
    "\n",
    "try:\n",
    "    checkAge(age)\n",
    "except ValueError as e:\n",
    "    print(\"Something Went wrong : \", e)\n"
   ]
  },
  {
   "cell_type": "code",
   "execution_count": null,
   "metadata": {},
   "outputs": [],
   "source": []
  }
 ],
 "metadata": {
  "kernelspec": {
   "display_name": "venv",
   "language": "python",
   "name": "python3"
  },
  "language_info": {
   "codemirror_mode": {
    "name": "ipython",
    "version": 3
   },
   "file_extension": ".py",
   "mimetype": "text/x-python",
   "name": "python",
   "nbconvert_exporter": "python",
   "pygments_lexer": "ipython3",
   "version": "3.12.4"
  }
 },
 "nbformat": 4,
 "nbformat_minor": 2
}
