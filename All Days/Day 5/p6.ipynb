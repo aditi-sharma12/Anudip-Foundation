{
 "cells": [
  {
   "cell_type": "code",
   "execution_count": 1,
   "metadata": {},
   "outputs": [],
   "source": [
    "from tabulate import tabulate\n",
    "import pandas as pd "
   ]
  },
  {
   "cell_type": "code",
   "execution_count": 2,
   "metadata": {},
   "outputs": [],
   "source": [
    "studentData = [\n",
    "    ['stdid', 'stdname', 'standard', 'age', 'hindi', 'english', 'maths', 'science', 'computer', 'total'],\n",
    "    ['std101', 'Ashish Kumar',   '10th', 15 , 67 , 89, 87, 89, 90, 422],\n",
    "    ['std102', 'Abhishek Kumar', '10th', 14 , 85 , 45, 48, 90, 45, 313],\n",
    "    ['std103', 'Aman',           '10th', 15 , 23 , 56, 78, 78, 67, 302],\n",
    "    ['std104', 'Rahul',          '10th', 14 , 45 , 67, 45, 45, 56, 258],\n",
    "    ['std105', 'Ruby',           '10th', 13 , 89 , 67, 89, 93, 65, 403],\n",
    "    ['std106', 'Suman',          '10th', 13 , 90 , 46, 67, 67, 67, 337],\n",
    "    ['std107', 'Saurab',         '10th', 15 , 45 , 23, 34, 45, 34, 181],\n",
    "    ['std108', 'Sumit',          '10th', 14 , 23 , 45, 67, 78, 90, 303],\n",
    "    ['std109', 'Kamlesh',        '10th', 15 , 45 , 56, 78, 99, 67, 345],\n",
    "    ['std110', 'Rohan',          '10th', 15 , 34 , 12, 24, 45, 56, 171]\n",
    "]"
   ]
  },
  {
   "cell_type": "code",
   "execution_count": 3,
   "metadata": {},
   "outputs": [
    {
     "name": "stdout",
     "output_type": "stream",
     "text": [
      "+---------+----------------+------------+-------+---------+-----------+---------+-----------+------------+---------+\n",
      "| stdid   | stdname        | standard   |   age |   hindi |   english |   maths |   science |   computer |   total |\n",
      "+=========+================+============+=======+=========+===========+=========+===========+============+=========+\n",
      "| std101  | Ashish Kumar   | 10th       |    15 |      67 |        89 |      87 |        89 |         90 |     422 |\n",
      "+---------+----------------+------------+-------+---------+-----------+---------+-----------+------------+---------+\n",
      "| std102  | Abhishek Kumar | 10th       |    14 |      85 |        45 |      48 |        90 |         45 |     313 |\n",
      "+---------+----------------+------------+-------+---------+-----------+---------+-----------+------------+---------+\n",
      "| std103  | Aman           | 10th       |    15 |      23 |        56 |      78 |        78 |         67 |     302 |\n",
      "+---------+----------------+------------+-------+---------+-----------+---------+-----------+------------+---------+\n",
      "| std104  | Rahul          | 10th       |    14 |      45 |        67 |      45 |        45 |         56 |     258 |\n",
      "+---------+----------------+------------+-------+---------+-----------+---------+-----------+------------+---------+\n",
      "| std105  | Ruby           | 10th       |    13 |      89 |        67 |      89 |        93 |         65 |     403 |\n",
      "+---------+----------------+------------+-------+---------+-----------+---------+-----------+------------+---------+\n",
      "| std106  | Suman          | 10th       |    13 |      90 |        46 |      67 |        67 |         67 |     337 |\n",
      "+---------+----------------+------------+-------+---------+-----------+---------+-----------+------------+---------+\n",
      "| std107  | Saurab         | 10th       |    15 |      45 |        23 |      34 |        45 |         34 |     181 |\n",
      "+---------+----------------+------------+-------+---------+-----------+---------+-----------+------------+---------+\n",
      "| std108  | Sumit          | 10th       |    14 |      23 |        45 |      67 |        78 |         90 |     303 |\n",
      "+---------+----------------+------------+-------+---------+-----------+---------+-----------+------------+---------+\n",
      "| std109  | Kamlesh        | 10th       |    15 |      45 |        56 |      78 |        99 |         67 |     345 |\n",
      "+---------+----------------+------------+-------+---------+-----------+---------+-----------+------------+---------+\n",
      "| std110  | Rohan          | 10th       |    15 |      34 |        12 |      24 |        45 |         56 |     171 |\n",
      "+---------+----------------+------------+-------+---------+-----------+---------+-----------+------------+---------+\n"
     ]
    }
   ],
   "source": [
    "print(tabulate(studentData, headers=\"firstrow\", tablefmt=\"grid\"))"
   ]
  },
  {
   "cell_type": "code",
   "execution_count": 4,
   "metadata": {},
   "outputs": [
    {
     "name": "stdout",
     "output_type": "stream",
     "text": [
      "    stdid         stdname standard  age  hindi  english  maths  science  computer  total\n",
      "0  std101    Ashish Kumar     10th   15     67       89     87       89        90    422\n",
      "1  std102  Abhishek Kumar     10th   14     85       45     48       90        45    313\n",
      "2  std103            Aman     10th   15     23       56     78       78        67    302\n",
      "3  std104           Rahul     10th   14     45       67     45       45        56    258\n",
      "4  std105            Ruby     10th   13     89       67     89       93        65    403\n",
      "5  std106           Suman     10th   13     90       46     67       67        67    337\n",
      "6  std107          Saurab     10th   15     45       23     34       45        34    181\n",
      "7  std108           Sumit     10th   14     23       45     67       78        90    303\n",
      "8  std109         Kamlesh     10th   15     45       56     78       99        67    345\n",
      "9  std110           Rohan     10th   15     34       12     24       45        56    171\n"
     ]
    }
   ],
   "source": [
    "df = pd.DataFrame(studentData[1:], columns=studentData[0])  # Create DataFrame\n",
    "# Print the DataFrame with aligned columns\n",
    "print(df.to_string())"
   ]
  },
  {
   "cell_type": "code",
   "execution_count": 5,
   "metadata": {},
   "outputs": [
    {
     "name": "stdout",
     "output_type": "stream",
     "text": [
      "stdname\n",
      "--------------------------------------------------------------------------------------------\n",
      "Ashish Kumar\n",
      "Aman\n",
      "Rahul\n",
      "Ruby\n",
      "Kamlesh\n"
     ]
    }
   ],
   "source": [
    "#  print student name whose marks are above 50 in english\n",
    "print(studentData[0][1])\n",
    "print(\"--------------------------------------------------------------------------------------------\")\n",
    "for rowindex in range(1, len(studentData)):\n",
    "    if studentData[rowindex][5] > 50:\n",
    "        print(studentData[rowindex][1]) "
   ]
  },
  {
   "cell_type": "code",
   "execution_count": 8,
   "metadata": {},
   "outputs": [
    {
     "name": "stdout",
     "output_type": "stream",
     "text": [
      "std101  Ashish Kumar\n",
      "std109  Kamlesh\n",
      "std103  Aman\n",
      "std105  Ruby\n"
     ]
    }
   ],
   "source": [
    "# display name and age of top 4 scorer in maths\n",
    "\n",
    "max = []\n",
    "for rowindex in range(1, len(studentData)):\n",
    "    if len(max) < 4:\n",
    "        max.append(studentData[rowindex])\n",
    "    else:\n",
    "        minindex = 0\n",
    "        for i in range(1, 4):    \n",
    "            if max[i][6] < max[minindex][6] :\n",
    "                minindex = i\n",
    "                \n",
    "        if studentData[rowindex][6] > max[minindex][6]:\n",
    "            max[minindex] = studentData[rowindex]\n",
    "\n",
    "for i in range(4):\n",
    "    print(max[i][0], max[i][1], sep=\"  \")\n",
    "    \n",
    "# print(max)"
   ]
  },
  {
   "cell_type": "code",
   "execution_count": 9,
   "metadata": {},
   "outputs": [
    {
     "name": "stdout",
     "output_type": "stream",
     "text": [
      "std104  Rahul  14\n",
      "std102  Abhishek Kumar  14\n",
      "std107  Saurab  15\n"
     ]
    }
   ],
   "source": [
    "# display name, id, age of student bottom three scorer in computer\n",
    "\n",
    "min = []\n",
    "for rowindex in range(1, len(studentData)):\n",
    "    if len(min) < 3:\n",
    "        min.append(studentData[rowindex])\n",
    "    else:\n",
    "        maxindex = 0\n",
    "        for i in range(1, 3):\n",
    "            if min[i][8] > min[maxindex][8]:\n",
    "                maxindex = i\n",
    "                \n",
    "        if studentData[rowindex][8] < min[maxindex][8]:\n",
    "            min[maxindex] = studentData[rowindex]\n",
    "        \n",
    "for i in range(3):\n",
    "    print(min[i][0], min[i][1], min[i][3], sep=\"  \")"
   ]
  }
 ],
 "metadata": {
  "kernelspec": {
   "display_name": "venv",
   "language": "python",
   "name": "python3"
  },
  "language_info": {
   "codemirror_mode": {
    "name": "ipython",
    "version": 3
   },
   "file_extension": ".py",
   "mimetype": "text/x-python",
   "name": "python",
   "nbconvert_exporter": "python",
   "pygments_lexer": "ipython3",
   "version": "3.12.4"
  }
 },
 "nbformat": 4,
 "nbformat_minor": 2
}
