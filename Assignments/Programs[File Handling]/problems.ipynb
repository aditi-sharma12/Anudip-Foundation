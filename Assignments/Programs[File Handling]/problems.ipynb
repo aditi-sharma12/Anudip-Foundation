{
 "cells": [
  {
   "cell_type": "code",
   "execution_count": 34,
   "metadata": {},
   "outputs": [
    {
     "name": "stdout",
     "output_type": "stream",
     "text": [
      "1\n",
      "3 is a prime number\n"
     ]
    }
   ],
   "source": [
    "#! Write a program to check whether a number is prime or not\n",
    "num  = int(input('Enter a number: '))\n",
    "length = num//2\n",
    "print(length)\n",
    "flag = False\n",
    "for i in range(2, length):\n",
    "    if num % i == 0:\n",
    "        flag = True\n",
    "        break\n",
    "if flag:\n",
    "    print(f'{num} is a not a prime number')\n",
    "else:\n",
    "    print(f'{num} is a prime number') "
   ]
  },
  {
   "cell_type": "code",
   "execution_count": 44,
   "metadata": {},
   "outputs": [
    {
     "name": "stdout",
     "output_type": "stream",
     "text": [
      "the factorial of number 5 : 120\n"
     ]
    }
   ],
   "source": [
    "## ! Write a program to find the factorial of a number\n",
    "\n",
    "def factorial(num):\n",
    "    if num < 1:\n",
    "        return 1\n",
    "    else:\n",
    "        return num * factorial(num - 1)\n",
    "    \n",
    "# driver code \n",
    "num = int(input('Enter the number : '))\n",
    "result = factorial(num)\n",
    "print(f'the factorial of number {num} : {result}')"
   ]
  },
  {
   "cell_type": "code",
   "execution_count": 49,
   "metadata": {},
   "outputs": [
    {
     "name": "stdout",
     "output_type": "stream",
     "text": [
      "The sum of two numbers 3 and 3 : 6\n"
     ]
    }
   ],
   "source": [
    "# write a program to print sum of two numbers using function\n",
    "\n",
    "def sum(num1, num2):\n",
    "    return num1 + num2\n",
    "    \n",
    "# driver code \n",
    "num1 = int(input(\"Enter first number: \"))\n",
    "num2 = int(input(\"Enter second number: \"))\n",
    "result = sum(num1, num2)\n",
    "print(f'The sum of two numbers {num1} and {num2} : {result}')"
   ]
  },
  {
   "cell_type": "code",
   "execution_count": 50,
   "metadata": {},
   "outputs": [
    {
     "name": "stdout",
     "output_type": "stream",
     "text": [
      "Simple interest is :  10.0\n"
     ]
    }
   ],
   "source": [
    "# Write a program to calculate simple interest using function\n",
    "\n",
    "principle = int(input(\"Enter the principle amount: \"))\n",
    "rate = int(input(\"Enter the rate of interest: \"))\n",
    "time = int(input(\"Enter the time: \"))\n",
    "\n",
    "print(\"Simple interest is : \", (principle*rate*time)/100)"
   ]
  },
  {
   "cell_type": "code",
   "execution_count": 51,
   "metadata": {},
   "outputs": [
    {
     "name": "stdout",
     "output_type": "stream",
     "text": [
      "The word \"INDIA\" occurs 5 times in the file.\n"
     ]
    }
   ],
   "source": [
    "#! Write a program to count the occurrence of word \"INDIA\" in a text file India.txt\n",
    "with open('India.txt', 'r') as file:\n",
    "    content = file.read()\n",
    "\n",
    "    count = content.count('INDIA')\n",
    "    print(f'The word \"INDIA\" occurs {count} times in the file.')\n"
   ]
  },
  {
   "cell_type": "code",
   "execution_count": 55,
   "metadata": {},
   "outputs": [
    {
     "name": "stdout",
     "output_type": "stream",
     "text": [
      "number of times t or T comes in story.txt : 9\n"
     ]
    }
   ],
   "source": [
    "# Write a program to count and display the lines starting with \"T\" in a text file story.txt\n",
    "\n",
    "f = open(\"story.txt\",'r')\n",
    "count = 0\n",
    "for line in f:\n",
    "    for word in line.split():\n",
    "        if word.startswith('T') or word.startswith('t'):\n",
    "            count += 1\n",
    "            \n",
    "f.close()\n",
    "        \n",
    "print(f'number of times t or T comes in story.txt : {count}')"
   ]
  },
  {
   "cell_type": "code",
   "execution_count": 40,
   "metadata": {},
   "outputs": [
    {
     "name": "stdout",
     "output_type": "stream",
     "text": [
      "Number of vowels: 113\n",
      "Number of consonants: 200\n"
     ]
    }
   ],
   "source": [
    "# Write a program to count the number of vowels and consonants in a file \"Myfile.txt\"\n",
    "\n",
    "with open (\"Myfile.txt\", \"r\") as f:\n",
    "    data = f.read()\n",
    "    vowels = \"aeiouAEIOU\"\n",
    "    vowel_count = 0\n",
    "    consonant_count = 0\n",
    "    for char in data:\n",
    "        if char in vowels:\n",
    "            vowel_count += 1\n",
    "        elif char.isalpha():\n",
    "            consonant_count += 1\n",
    "    print(\"Number of vowels:\", vowel_count)\n",
    "    print(\"Number of consonants:\", consonant_count)"
   ]
  },
  {
   "cell_type": "code",
   "execution_count": 41,
   "metadata": {},
   "outputs": [
    {
     "name": "stdout",
     "output_type": "stream",
     "text": [
      "Number of words starting with 'i': 2\n"
     ]
    }
   ],
   "source": [
    "# Write a program to count and display number of words starting with \"i\" in a file Word.txt\n",
    "with open(\"Word.txt\", \"r\") as f:\n",
    "    count = 0\n",
    "    for line in f:\n",
    "        words = line.split()\n",
    "        for word in words:\n",
    "            # print(word)\n",
    "            if word.startswith(\"i\"):\n",
    "                count += 1\n",
    "    print(\"Number of words starting with 'i':\", count)"
   ]
  },
  {
   "cell_type": "code",
   "execution_count": 1,
   "metadata": {},
   "outputs": [
    {
     "name": "stdout",
     "output_type": "stream",
     "text": [
      "secrets through the swaying palm trees,\n",
      "\n",
      "sending chills down Amelia's exposed arms.\n",
      "\n",
      "their calls echoing off the rocky cliffs. \n",
      "\n"
     ]
    }
   ],
   "source": [
    "#? Write a program to display the lines having more than five words in a text file Notes.txt\n",
    "with open(\"Notes.txt\", \"r\") as f:\n",
    "    for line in f:\n",
    "        words = line.split()\n",
    "        if len(words) > 5:\n",
    "            print(line)"
   ]
  },
  {
   "cell_type": "code",
   "execution_count": 13,
   "metadata": {},
   "outputs": [],
   "source": [
    "# Write a program to create a binary fine \"Stu.dat\" and Enter students rollno. Name and Marks till the user wants.\n",
    "import pickle\n",
    "\n",
    "studentData = {\n",
    "    \"rollno\": 40,\n",
    "    \"name\": \"Bhavya\",\n",
    "    \"marks\": 100\n",
    "}\n",
    "\n",
    "while True:\n",
    "    with open('stu.dat', 'ab') as f:  # 'ab' mode to append binary data\n",
    "            pickle.dump(studentData, f)\n",
    "            \n",
    "    temp = input(\"Do you want to add another student? (True/False): \").lower().capitalize()\n",
    "    if temp != 'True':\n",
    "        break\n",
    "\n"
   ]
  },
  {
   "cell_type": "code",
   "execution_count": 5,
   "metadata": {},
   "outputs": [
    {
     "name": "stdout",
     "output_type": "stream",
     "text": [
      "{'rollno': 40, 'name': 'Bhavya', 'marks': 100}\n",
      "{'rollno': 40, 'name': 'Bhavya', 'marks': 100}\n",
      "{'rollno': 40, 'name': 'Bhavya', 'marks': 100}\n",
      "{'rollno': 40, 'name': 'Bhavya', 'marks': 100}\n",
      "{'rollno': 40, 'name': 'Bhavya', 'marks': 100}\n",
      "{'rollno': 40, 'name': 'Bhavya', 'marks': 100}\n",
      "{'rollno': 40, 'name': 'Bhavya', 'marks': 100}\n",
      "{'rollno': 40, 'name': 'Bhavya', 'marks': 100}\n",
      "{'rollno': 40, 'name': 'Bhavya', 'marks': 100}\n",
      "{'rollno': 40, 'name': 'Bhavya', 'marks': 100}\n",
      "{'rollno': 40, 'name': 'Bhavya', 'marks': 100}\n",
      "{'rollno': 40, 'name': 'Bhavya', 'marks': 100}\n",
      "{'rollno': 40, 'name': 'Bhavya', 'marks': 100}\n"
     ]
    }
   ],
   "source": [
    "# Write a program to read a binary file \"Stu.dat\" and display the record of students having marks greater than 81\n",
    "import pickle\n",
    "students = []\n",
    "with open('stu.dat', 'rb') as f:\n",
    "    while True:\n",
    "        try:\n",
    "            student = pickle.load(f)\n",
    "            students.append(student)\n",
    "        except EOFError:\n",
    "            break\n",
    "\n",
    "for student in students:\n",
    "    print(student)\n",
    "\n",
    "                "
   ]
  }
 ],
 "metadata": {
  "kernelspec": {
   "display_name": "venv",
   "language": "python",
   "name": "python3"
  },
  "language_info": {
   "codemirror_mode": {
    "name": "ipython",
    "version": 3
   },
   "file_extension": ".py",
   "mimetype": "text/x-python",
   "name": "python",
   "nbconvert_exporter": "python",
   "pygments_lexer": "ipython3",
   "version": "3.12.4"
  }
 },
 "nbformat": 4,
 "nbformat_minor": 2
}
