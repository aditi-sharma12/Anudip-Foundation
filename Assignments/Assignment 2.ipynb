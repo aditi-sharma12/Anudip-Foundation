{
 "cells": [
  {
   "cell_type": "code",
   "execution_count": 1,
   "metadata": {},
   "outputs": [],
   "source": [
    "import pandas as pd "
   ]
  },
  {
   "cell_type": "code",
   "execution_count": 2,
   "metadata": {},
   "outputs": [],
   "source": [
    "studentData = {\n",
    "        'stdid'    :  ['std101', 'std102', 'std103', 'std104', 'std105', 'std106', 'std107', 'std108', 'std109', 'std110'],\n",
    "        'stdname'  :  ['Ashish Kumar', 'Abhishek Kumar', 'Aman', 'Rahul', 'Ruby', 'Suman', 'Saurab', 'Sumit', 'Kamlesh', 'Rohan'],\n",
    "        'standard' :  ['10th', '10th', '10th', '10th', '10th', '10th', '10th', '10th', '10th', '10th'],\n",
    "        'age'      :  [15 , 14, 15, 14, 13, 13, 15, 14, 15, 15], \n",
    "        'hindi'    :  [67 , 85, 23, 45, 89, 90, 45, 23, 45, 34], \n",
    "        'english'  :  [89, 45, 56, 67, 67, 46, 23, 45, 56, 12], \n",
    "        'maths'    :  [87, 48, 78, 45, 89, 67, 34, 67, 78, 24], \n",
    "        'science'  :  [89, 90, 78, 45, 93, 67, 45, 78, 99, 45], \n",
    "        'computer' :  [90, 45, 67, 56, 65, 67, 34, 90, 67, 56], \n",
    "        'total'    :  [422, 313, 302, 258, 403, 337, 181, 303, 345, 171]\n",
    "    }"
   ]
  },
  {
   "cell_type": "code",
   "execution_count": 3,
   "metadata": {},
   "outputs": [
    {
     "name": "stdout",
     "output_type": "stream",
     "text": [
      "    stdid         stdname standard  age  hindi  english  maths  science  computer  total\n",
      "0  std101    Ashish Kumar     10th   15     67       89     87       89        90    422\n",
      "1  std102  Abhishek Kumar     10th   14     85       45     48       90        45    313\n",
      "2  std103            Aman     10th   15     23       56     78       78        67    302\n",
      "3  std104           Rahul     10th   14     45       67     45       45        56    258\n",
      "4  std105            Ruby     10th   13     89       67     89       93        65    403\n",
      "5  std106           Suman     10th   13     90       46     67       67        67    337\n",
      "6  std107          Saurab     10th   15     45       23     34       45        34    181\n",
      "7  std108           Sumit     10th   14     23       45     67       78        90    303\n",
      "8  std109         Kamlesh     10th   15     45       56     78       99        67    345\n",
      "9  std110           Rohan     10th   15     34       12     24       45        56    171\n"
     ]
    }
   ],
   "source": [
    "#* Create DataFrame\n",
    "df = pd.DataFrame(studentData)\n",
    "\n",
    "# Print the DataFrame with aligned columns\n",
    "print(df.to_string())"
   ]
  },
  {
   "cell_type": "code",
   "execution_count": 5,
   "metadata": {},
   "outputs": [
    {
     "name": "stdout",
     "output_type": "stream",
     "text": [
      "Ashish Kumar    89\n",
      "Aman            56\n",
      "Rahul           67\n",
      "Ruby            67\n",
      "Kamlesh         56\n",
      "dtype: int64\n"
     ]
    }
   ],
   "source": [
    "#!  print student name whose marks are above 50 in english\n",
    "dic = {}\n",
    "for index in range (len(studentData['english'])):\n",
    "    if (studentData['english'][index] > 50 ):\n",
    "        # print(studentData['stdname'][key], '  ',studentData['english'][key])\n",
    "        dic[studentData['stdname'][index]] = studentData['english'][index]\n",
    "\n",
    "df2 = pd.Series(dic)\n",
    "print(df2)"
   ]
  },
  {
   "cell_type": "code",
   "execution_count": 6,
   "metadata": {},
   "outputs": [
    {
     "name": "stdout",
     "output_type": "stream",
     "text": [
      "87   15   Ashish Kumar\n",
      "78   15   Kamlesh\n",
      "89   13   Ruby\n",
      "78   15   Kamlesh\n"
     ]
    }
   ],
   "source": [
    "#! display name and age of top 4 scorer in maths\n",
    "dic = {}\n",
    "list = []\n",
    "for index in range(len(studentData['maths'])):\n",
    "    if len(list) < 4:\n",
    "        dic[studentData['maths'][index]] = [studentData['stdname'][index], studentData['age'][index]]\n",
    "        list.append(studentData['maths'][index])  \n",
    "    else: \n",
    "        max = list[0]\n",
    "        for key in list[1:]:\n",
    "            if key < max:\n",
    "                max = key \n",
    "        \n",
    "        if studentData['maths'][index] > max:\n",
    "            list.remove(max)\n",
    "            dic.pop(max)\n",
    "            dic[studentData['maths'][index]] = [studentData['stdname'][index], studentData['age'][index]]\n",
    "            list.append(studentData['maths'][index])\n",
    "# print(list)\n",
    "\n",
    "for i in list:\n",
    "    print(i, ' ', dic[i][1], ' ', dic[i][0])\n"
   ]
  },
  {
   "cell_type": "code",
   "execution_count": 7,
   "metadata": {},
   "outputs": [
    {
     "name": "stdout",
     "output_type": "stream",
     "text": [
      "45   14   std102   Abhishek Kumar\n",
      "56   14   std104   Rahul\n",
      "34   15   std107   Saurab\n"
     ]
    }
   ],
   "source": [
    "#! display name, id, age of student bottom three scorer in computer\n",
    "\n",
    "\n",
    "dic2 = {}\n",
    "list = []\n",
    "for index in range(len(studentData['maths'])):\n",
    "    if len(list) < 3:\n",
    "        dic2[studentData['computer'][index]] = [studentData['stdname'][index], studentData['age'][index], studentData['stdid'][index]]\n",
    "        list.append(studentData['computer'][index])  \n",
    "    else: \n",
    "        max = list[0]\n",
    "        for key in list[1:]:\n",
    "            if key > max:\n",
    "                max = key \n",
    "        \n",
    "        if studentData['computer'][index] < max:\n",
    "            list.remove(max)\n",
    "            dic2.pop(max)\n",
    "            dic2[studentData['computer'][index]] = [studentData['stdname'][index], studentData['age'][index], studentData['stdid'][index]]\n",
    "            list.append(studentData['computer'][index])\n",
    "            \n",
    "\n",
    "for i in list:\n",
    "    print(i, ' ', dic2[i][1], ' ',dic2[i][2], ' ', dic2[i][0])"
   ]
  },
  {
   "cell_type": "code",
   "execution_count": 8,
   "metadata": {},
   "outputs": [
    {
     "data": {
      "text/plain": [
       "'dictionary = {}\\nfor values in range(1, len(studentData)):\\n    dict = {}\\n    for value in range(len(studentData[values])):\\n        dict[studentData[0][value]] = studentData[values][value]\\n    print(dict)\\n    dictionary[values] = dict\\nprint(dictionary)'"
      ]
     },
     "execution_count": 8,
     "metadata": {},
     "output_type": "execute_result"
    }
   ],
   "source": [
    "# studentData = [\n",
    "#     ['stdid', 'stdname', 'standard', 'age', 'hindi', 'english', 'maths', 'science', 'computer', 'total'],\n",
    "#     ['std101', 'Ashish Kumar',   '10th', 15 , 67 , 89, 87, 89, 90, 422],\n",
    "#     ['std102', 'Abhishek Kumar', '10th', 14 , 85 , 45, 48, 90, 45, 313],\n",
    "#     ['std103', 'Aman',           '10th', 15 , 23 , 56, 78, 78, 67, 302],\n",
    "#     ['std104', 'Rahul',          '10th', 14 , 45 , 67, 45, 45, 56, 258],\n",
    "#     ['std105', 'Ruby',           '10th', 13 , 89 , 67, 89, 93, 65, 403],\n",
    "#     ['std106', 'Suman',          '10th', 13 , 90 , 46, 67, 67, 67, 337],\n",
    "#     ['std107', 'Saurab',         '10th', 15 , 45 , 23, 34, 45, 34, 181],\n",
    "#     ['std108', 'Sumit',          '10th', 14 , 23 , 45, 67, 78, 90, 303],\n",
    "#     ['std109', 'Kamlesh',        '10th', 15 , 45 , 56, 78, 99, 67, 345],\n",
    "#     ['std110', 'Rohan',          '10th', 15 , 34 , 12, 24, 45, 56, 171]\n",
    "# ]\n",
    "\n",
    "#* convert studentData list into dictionary\n",
    "'''dictionary = {}\n",
    "for values in range(1, len(studentData)):\n",
    "    dict = {}\n",
    "    for value in range(len(studentData[values])):\n",
    "        dict[studentData[0][value]] = studentData[values][value]\n",
    "    print(dict)\n",
    "    dictionary[values] = dict\n",
    "print(dictionary)'''"
   ]
  }
 ],
 "metadata": {
  "kernelspec": {
   "display_name": "venv",
   "language": "python",
   "name": "python3"
  },
  "language_info": {
   "codemirror_mode": {
    "name": "ipython",
    "version": 3
   },
   "file_extension": ".py",
   "mimetype": "text/x-python",
   "name": "python",
   "nbconvert_exporter": "python",
   "pygments_lexer": "ipython3",
   "version": "3.12.4"
  }
 },
 "nbformat": 4,
 "nbformat_minor": 2
}
